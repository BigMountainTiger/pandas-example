{
 "cells": [
  {
   "cell_type": "code",
   "execution_count": 18,
   "id": "dbf88f68-f8f1-415a-b9b9-4cb8bd8d1841",
   "metadata": {},
   "outputs": [],
   "source": [
    "import pandas as pd\n",
    "import pyarrow.parquet as pq\n",
    "from datetime import date, datetime, time\n",
    "from dateutil.relativedelta import relativedelta"
   ]
  },
  {
   "cell_type": "code",
   "execution_count": 2,
   "id": "df561ba4-5219-41a4-a739-9aabd2c58440",
   "metadata": {},
   "outputs": [
    {
     "name": "stdout",
     "output_type": "stream",
     "text": [
      "<class 'pandas.core.frame.DataFrame'>\n",
      "RangeIndex: 3 entries, 0 to 2\n",
      "Data columns (total 2 columns):\n",
      " #   Column  Non-Null Count  Dtype \n",
      "---  ------  --------------  ----- \n",
      " 0   name    3 non-null      object\n",
      " 1   value   2 non-null      object\n",
      "dtypes: object(2)\n",
      "memory usage: 180.0+ bytes\n"
     ]
    }
   ],
   "source": [
    "today = date.today()\n",
    "\n",
    "df = pd.DataFrame({\n",
    "    'name': ['yesterday', 'today', 'tomorrow'],\n",
    "    'value': [None, today, today + relativedelta(days=1)]\n",
    "})\n",
    "df.info()"
   ]
  },
  {
   "cell_type": "code",
   "execution_count": 3,
   "id": "55fad4c5-bb25-4493-a7d5-7ffe91bbfa56",
   "metadata": {},
   "outputs": [],
   "source": [
    "parquet_path = '../.files_temp/parquet_example.parquet'\n",
    "df.to_parquet(parquet_path, engine=\"pyarrow\", index=False)"
   ]
  },
  {
   "cell_type": "markdown",
   "id": "78b1019e-54e3-4ab2-a44e-e96d571e93b2",
   "metadata": {},
   "source": [
    "<h1>Utility functions</h1>"
   ]
  },
  {
   "cell_type": "code",
   "execution_count": 4,
   "id": "ad9f480d-8cb8-4b73-85f9-9a8d4a5ef432",
   "metadata": {},
   "outputs": [],
   "source": [
    "def check_cell_datatype(df):\n",
    "    df.info()\n",
    "\n",
    "    for index, row in df.iterrows():\n",
    "        name, value = row['name'], row['value']\n",
    "        print(f'{name} - {value} - {type(value)}')\n",
    "\n",
    "\n",
    "def loc_on_the_date_column(df):\n",
    "    print()\n",
    "    print(df.loc[df['value'].isnull(), :])\n",
    "    print()\n",
    "    print(df.loc[df['value'] == today, :])\n",
    "    print()\n",
    "    print(df.loc[df['value'] >= today, :])\n",
    "    print()\n",
    "    print(df.loc[df['value'].isnull() | (df['value'] <= today), :])"
   ]
  },
  {
   "cell_type": "markdown",
   "id": "342d46fd-c31b-4731-a91b-1bfcbbd4e0a9",
   "metadata": {},
   "source": [
    "<h1>Directly read parquet by pandas</h1>\n",
    "<h4>1. pd.read_parquet() successfully recovered the datetime.date type</h4>\n",
    "<h4>2. convert_dtypes() converts to the best nullable type. columns with datetime.date remain \"object\" type</h4>"
   ]
  },
  {
   "cell_type": "code",
   "execution_count": 5,
   "id": "ced537ab-166c-435d-bc38-92fcba4948e6",
   "metadata": {},
   "outputs": [
    {
     "name": "stdout",
     "output_type": "stream",
     "text": [
      "<class 'pandas.core.frame.DataFrame'>\n",
      "RangeIndex: 3 entries, 0 to 2\n",
      "Data columns (total 2 columns):\n",
      " #   Column  Non-Null Count  Dtype \n",
      "---  ------  --------------  ----- \n",
      " 0   name    3 non-null      string\n",
      " 1   value   2 non-null      object\n",
      "dtypes: object(1), string(1)\n",
      "memory usage: 180.0+ bytes\n",
      "yesterday - None - <class 'NoneType'>\n",
      "today - 2025-10-29 - <class 'datetime.date'>\n",
      "tomorrow - 2025-10-30 - <class 'datetime.date'>\n",
      "\n",
      "        name value\n",
      "0  yesterday  None\n",
      "\n",
      "    name       value\n",
      "1  today  2025-10-29\n",
      "\n",
      "       name       value\n",
      "1     today  2025-10-29\n",
      "2  tomorrow  2025-10-30\n",
      "\n",
      "        name       value\n",
      "0  yesterday        None\n",
      "1      today  2025-10-29\n"
     ]
    }
   ],
   "source": [
    "df = pd.read_parquet(parquet_path)\n",
    "df = df.convert_dtypes()\n",
    "\n",
    "check_cell_datatype(df)\n",
    "loc_on_the_date_column(df)"
   ]
  },
  {
   "cell_type": "markdown",
   "id": "f6277cce-9d7c-4fe9-934d-8f0f5474ccb2",
   "metadata": {},
   "source": [
    "<h1>Read through awswrangler</h1>\n",
    "\n",
    "<h4>awswrangler does not allow read from local file</h4>\n",
    "<h4>Need to use the pyarrow.parquet library, which awswrangler itself leverages</h4>"
   ]
  },
  {
   "cell_type": "code",
   "execution_count": 20,
   "id": "6931a3bd-a67a-4bfe-928d-c2be049393ef",
   "metadata": {},
   "outputs": [
    {
     "name": "stdout",
     "output_type": "stream",
     "text": [
      "<class 'pandas.core.frame.DataFrame'>\n",
      "RangeIndex: 3 entries, 0 to 2\n",
      "Data columns (total 2 columns):\n",
      " #   Column  Non-Null Count  Dtype \n",
      "---  ------  --------------  ----- \n",
      " 0   name    3 non-null      string\n",
      " 1   value   2 non-null      object\n",
      "dtypes: object(1), string(1)\n",
      "memory usage: 180.0+ bytes\n",
      "yesterday - None - <class 'NoneType'>\n",
      "today - 2025-10-29 - <class 'datetime.date'>\n",
      "tomorrow - 2025-10-30 - <class 'datetime.date'>\n",
      "\n",
      "        name value\n",
      "0  yesterday  None\n",
      "\n",
      "    name       value\n",
      "1  today  2025-10-29\n",
      "\n",
      "       name       value\n",
      "1     today  2025-10-29\n",
      "2  tomorrow  2025-10-30\n",
      "\n",
      "        name       value\n",
      "0  yesterday        None\n",
      "1      today  2025-10-29\n"
     ]
    }
   ],
   "source": [
    "table = pq.read_table(parquet_path)\n",
    "df = table.to_pandas()\n",
    "df = df.convert_dtypes()\n",
    "\n",
    "check_cell_datatype(df)\n",
    "loc_on_the_date_column(df)"
   ]
  },
  {
   "cell_type": "markdown",
   "id": "f03417f8-eb2e-4780-9e68-88a9d9749537",
   "metadata": {},
   "source": [
    "<h1>Inspect parquet file schema</h1>"
   ]
  },
  {
   "cell_type": "code",
   "execution_count": 24,
   "id": "04878318-45ee-4b68-9e86-2837370e0d49",
   "metadata": {},
   "outputs": [
    {
     "data": {
      "text/plain": [
       "name: string\n",
       "value: date32[day]\n",
       "-- schema metadata --\n",
       "pandas: '{\"index_columns\": [], \"column_indexes\": [], \"columns\": [{\"name\":' + 290"
      ]
     },
     "execution_count": 24,
     "metadata": {},
     "output_type": "execute_result"
    }
   ],
   "source": [
    "pq.read_schema(parquet_path)"
   ]
  },
  {
   "cell_type": "markdown",
   "id": "c8d19d02-6e3c-4467-97f4-0768c53d440a",
   "metadata": {},
   "source": [
    "<h1>Conclusion: Pandas can handle datetime.date type properly</h1>"
   ]
  }
 ],
 "metadata": {
  "kernelspec": {
   "display_name": "Python 3 (ipykernel)",
   "language": "python",
   "name": "python3"
  },
  "language_info": {
   "codemirror_mode": {
    "name": "ipython",
    "version": 3
   },
   "file_extension": ".py",
   "mimetype": "text/x-python",
   "name": "python",
   "nbconvert_exporter": "python",
   "pygments_lexer": "ipython3",
   "version": "3.12.3"
  }
 },
 "nbformat": 4,
 "nbformat_minor": 5
}
