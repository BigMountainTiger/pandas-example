{
 "cells": [
  {
   "cell_type": "code",
   "execution_count": 2,
   "id": "f1ba0ceb-6ed8-42ba-93bd-c9c9c52f3072",
   "metadata": {},
   "outputs": [],
   "source": [
    "import pandas as pd"
   ]
  },
  {
   "cell_type": "markdown",
   "id": "888aaa63-10f5-4d91-b65f-940b5dcafdd6",
   "metadata": {},
   "source": [
    "<h1>Sample multiple times does not improve the evenness of the result</h1>"
   ]
  },
  {
   "cell_type": "code",
   "execution_count": 60,
   "id": "d73b470f-28c1-4bde-95f6-4b579ff1eb49",
   "metadata": {},
   "outputs": [
    {
     "name": "stdout",
     "output_type": "stream",
     "text": [
      "Chund 0 - 44\n",
      "Chund 1 - 51\n",
      "Chund 2 - 43\n",
      "Chund 3 - 62\n",
      "total_sampled = 200\n"
     ]
    }
   ],
   "source": [
    "chunk_size = 250\n",
    "total_size = chunk_size * 4\n",
    "\n",
    "r = range(0, total_size)\n",
    "df = pd.DataFrame({\n",
    "    'chunk': [i // chunk_size for i in r],\n",
    "    'id': [i for i in r]\n",
    "})\n",
    "\n",
    "df_sample = df.sample(frac=0.2).reset_index(drop=True)\n",
    "\n",
    "total_sampled = 0\n",
    "for i in range(0, 4):\n",
    "    df_sub = df_sample.loc[df_sample['chunk'] == i]\n",
    "    df_sub_length = len(df_sub)\n",
    "    \n",
    "    print(f'Chund {i} - {df_sub_length}')\n",
    "    total_sampled = total_sampled + df_sub_length\n",
    "\n",
    "print(f'total_sampled = {total_sampled}')"
   ]
  }
 ],
 "metadata": {
  "kernelspec": {
   "display_name": "Python 3 (ipykernel)",
   "language": "python",
   "name": "python3"
  },
  "language_info": {
   "codemirror_mode": {
    "name": "ipython",
    "version": 3
   },
   "file_extension": ".py",
   "mimetype": "text/x-python",
   "name": "python",
   "nbconvert_exporter": "python",
   "pygments_lexer": "ipython3",
   "version": "3.12.3"
  }
 },
 "nbformat": 4,
 "nbformat_minor": 5
}
