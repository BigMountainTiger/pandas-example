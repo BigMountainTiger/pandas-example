{
 "cells": [
  {
   "cell_type": "code",
   "execution_count": 1,
   "id": "faac786c-c0e7-4771-b1f8-305cb856928b",
   "metadata": {},
   "outputs": [],
   "source": [
    "import pandas as pd"
   ]
  },
  {
   "cell_type": "code",
   "execution_count": 3,
   "id": "054b31af-0dbc-480e-98e1-05a14e4f5e3a",
   "metadata": {},
   "outputs": [
    {
     "name": "stdout",
     "output_type": "stream",
     "text": [
      "<class 'pandas.core.frame.DataFrame'>\n",
      "RangeIndex: 3 entries, 0 to 2\n",
      "Data columns (total 1 columns):\n",
      " #   Column  Non-Null Count  Dtype\n",
      "---  ------  --------------  -----\n",
      " 0   id      3 non-null      int64\n",
      "dtypes: int64(1)\n",
      "memory usage: 156.0 bytes\n"
     ]
    }
   ],
   "source": [
    "df = pd.DataFrame({\n",
    "    'id': [1, 2, 3],\n",
    "})\n",
    "\n",
    "df.info()"
   ]
  },
  {
   "cell_type": "code",
   "execution_count": 14,
   "id": "ee7556df-7c5e-41de-a9ee-dc4e21d8e2e1",
   "metadata": {},
   "outputs": [
    {
     "name": "stdout",
     "output_type": "stream",
     "text": [
      "<class 'pandas.core.frame.DataFrame'>\n",
      "RangeIndex: 3 entries, 0 to 2\n",
      "Data columns (total 2 columns):\n",
      " #   Column  Non-Null Count  Dtype \n",
      "---  ------  --------------  ----- \n",
      " 0   id      3 non-null      Int64 \n",
      " 1   score   0 non-null      object\n",
      "dtypes: Int64(1), object(1)\n",
      "memory usage: 183.0+ bytes\n"
     ]
    }
   ],
   "source": [
    "df['score'] = None\n",
    "\n",
    "df1 = df.copy()\n",
    "df1.info()"
   ]
  },
  {
   "cell_type": "code",
   "execution_count": 15,
   "id": "1883920e-d2a0-4cad-aa93-420038e15436",
   "metadata": {},
   "outputs": [
    {
     "name": "stdout",
     "output_type": "stream",
     "text": [
      "<class 'pandas.core.frame.DataFrame'>\n",
      "RangeIndex: 3 entries, 0 to 2\n",
      "Data columns (total 2 columns):\n",
      " #   Column  Non-Null Count  Dtype\n",
      "---  ------  --------------  -----\n",
      " 0   id      3 non-null      Int64\n",
      " 1   score   3 non-null      int64\n",
      "dtypes: Int64(1), int64(1)\n",
      "memory usage: 183.0 bytes\n"
     ]
    }
   ],
   "source": [
    "df['score'] = 1\n",
    "\n",
    "df2 = df.copy()\n",
    "df2.info()"
   ]
  },
  {
   "cell_type": "markdown",
   "id": "c2feebb7-f2dd-4f61-8423-10616f237b1e",
   "metadata": {},
   "source": [
    "<h4>concated column take the more generic type from all the dataframes</h4>"
   ]
  },
  {
   "cell_type": "code",
   "execution_count": 17,
   "id": "91bf7dab-ca30-4b1b-b2a9-ad79f9cee2e8",
   "metadata": {},
   "outputs": [
    {
     "name": "stdout",
     "output_type": "stream",
     "text": [
      "<class 'pandas.core.frame.DataFrame'>\n",
      "Index: 6 entries, 0 to 2\n",
      "Data columns (total 2 columns):\n",
      " #   Column  Non-Null Count  Dtype \n",
      "---  ------  --------------  ----- \n",
      " 0   id      6 non-null      Int64 \n",
      " 1   score   3 non-null      object\n",
      "dtypes: Int64(1), object(1)\n",
      "memory usage: 150.0+ bytes\n"
     ]
    }
   ],
   "source": [
    "df = pd.concat([df1, df2])\n",
    "df.info()"
   ]
  }
 ],
 "metadata": {
  "kernelspec": {
   "display_name": "Python 3 (ipykernel)",
   "language": "python",
   "name": "python3"
  },
  "language_info": {
   "codemirror_mode": {
    "name": "ipython",
    "version": 3
   },
   "file_extension": ".py",
   "mimetype": "text/x-python",
   "name": "python",
   "nbconvert_exporter": "python",
   "pygments_lexer": "ipython3",
   "version": "3.12.3"
  }
 },
 "nbformat": 4,
 "nbformat_minor": 5
}
