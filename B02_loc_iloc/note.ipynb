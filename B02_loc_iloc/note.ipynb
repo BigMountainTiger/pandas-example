{
 "cells": [
  {
   "cell_type": "markdown",
   "id": "08baa21c-f5f6-4cdc-8b78-8b255c9209ed",
   "metadata": {},
   "source": [
    "<b>Example dataframe:</b>"
   ]
  },
  {
   "cell_type": "code",
   "execution_count": 1,
   "id": "393dc862-785d-4ae3-9621-562e8b7c0433",
   "metadata": {},
   "outputs": [
    {
     "data": {
      "text/html": [
       "<div>\n",
       "<style scoped>\n",
       "    .dataframe tbody tr th:only-of-type {\n",
       "        vertical-align: middle;\n",
       "    }\n",
       "\n",
       "    .dataframe tbody tr th {\n",
       "        vertical-align: top;\n",
       "    }\n",
       "\n",
       "    .dataframe thead th {\n",
       "        text-align: right;\n",
       "    }\n",
       "</style>\n",
       "<table border=\"1\" class=\"dataframe\">\n",
       "  <thead>\n",
       "    <tr style=\"text-align: right;\">\n",
       "      <th></th>\n",
       "      <th>id</th>\n",
       "      <th>score</th>\n",
       "    </tr>\n",
       "    <tr>\n",
       "      <th>name</th>\n",
       "      <th></th>\n",
       "      <th></th>\n",
       "    </tr>\n",
       "  </thead>\n",
       "  <tbody>\n",
       "    <tr>\n",
       "      <th>Song</th>\n",
       "      <td>0</td>\n",
       "      <td>100</td>\n",
       "    </tr>\n",
       "    <tr>\n",
       "      <th>Biden</th>\n",
       "      <td>1</td>\n",
       "      <td>10</td>\n",
       "    </tr>\n",
       "    <tr>\n",
       "      <th>Biden</th>\n",
       "      <td>2</td>\n",
       "      <td>20</td>\n",
       "    </tr>\n",
       "    <tr>\n",
       "      <th>Potato</th>\n",
       "      <td>3</td>\n",
       "      <td>90</td>\n",
       "    </tr>\n",
       "  </tbody>\n",
       "</table>\n",
       "</div>"
      ],
      "text/plain": [
       "        id  score\n",
       "name             \n",
       "Song     0    100\n",
       "Biden    1     10\n",
       "Biden    2     20\n",
       "Potato   3     90"
      ]
     },
     "execution_count": 1,
     "metadata": {},
     "output_type": "execute_result"
    }
   ],
   "source": [
    "import pandas as pd\n",
    "\n",
    "D = {\n",
    "    'id': [0, 1, 2, 3],\n",
    "    'name': ['Song', 'Biden', 'Biden', 'Potato'],\n",
    "    'score': [100, 10, 20, 90]\n",
    "}\n",
    "\n",
    "df = pd.DataFrame(D)\n",
    "df.set_index('name', inplace=True)\n",
    "\n",
    "df"
   ]
  },
  {
   "cell_type": "markdown",
   "id": "cc3e5e5d-392c-48ae-981f-0a27d23df6d9",
   "metadata": {},
   "source": [
    "<h1>loc</h1>\n",
    "<b>loc select rows and columns by labels</b>\n",
    "\n",
    "<ol>\n",
    "    <li>The 1st entry is the label of the rows (index labels)</li>\n",
    "    <li>The 2nd entry is the label of the columns (column name)</li>\n",
    "</ol>\n",
    "\n",
    "<b>Input & output types</b>\n",
    "<ol>\n",
    "    <li>When both entries are list, even the list has only 1 entry => returns a dataframe</li>\n",
    "    <li>When one of the entries is a scalar => returns a series</li>\n",
    "    <li>When both of the entries are scalar => returns a scalar. If the index is not unique, it still returns a series</li>\n",
    "    <li>If selection does not match any record, loc throws an <b>exception</b></li>\n",
    "</ol>\n",
    "\n",
    "<b>When using slice syntax, loc is inclusive at both ends</b>"
   ]
  },
  {
   "cell_type": "code",
   "execution_count": 2,
   "id": "545f2bcd-460f-4ec0-8ced-5dc1537b15f0",
   "metadata": {},
   "outputs": [
    {
     "data": {
      "text/html": [
       "<div>\n",
       "<style scoped>\n",
       "    .dataframe tbody tr th:only-of-type {\n",
       "        vertical-align: middle;\n",
       "    }\n",
       "\n",
       "    .dataframe tbody tr th {\n",
       "        vertical-align: top;\n",
       "    }\n",
       "\n",
       "    .dataframe thead th {\n",
       "        text-align: right;\n",
       "    }\n",
       "</style>\n",
       "<table border=\"1\" class=\"dataframe\">\n",
       "  <thead>\n",
       "    <tr style=\"text-align: right;\">\n",
       "      <th></th>\n",
       "      <th>id</th>\n",
       "      <th>score</th>\n",
       "    </tr>\n",
       "    <tr>\n",
       "      <th>name</th>\n",
       "      <th></th>\n",
       "      <th></th>\n",
       "    </tr>\n",
       "  </thead>\n",
       "  <tbody>\n",
       "    <tr>\n",
       "      <th>Song</th>\n",
       "      <td>0</td>\n",
       "      <td>100</td>\n",
       "    </tr>\n",
       "  </tbody>\n",
       "</table>\n",
       "</div>"
      ],
      "text/plain": [
       "      id  score\n",
       "name           \n",
       "Song   0    100"
      ]
     },
     "execution_count": 2,
     "metadata": {},
     "output_type": "execute_result"
    }
   ],
   "source": [
    "# Both inputs are lists, even the list has only 1 entry => returns a dataframe\n",
    "\n",
    "df.loc[['Song'],:]"
   ]
  },
  {
   "cell_type": "code",
   "execution_count": 3,
   "id": "3051c517-ee3c-46da-b0ec-584b013b3588",
   "metadata": {},
   "outputs": [
    {
     "data": {
      "text/plain": [
       "id         0\n",
       "score    100\n",
       "Name: Song, dtype: int64"
      ]
     },
     "execution_count": 3,
     "metadata": {},
     "output_type": "execute_result"
    }
   ],
   "source": [
    "# One of the inputs is list => returns a series\n",
    "\n",
    "df.loc['Song',:]"
   ]
  },
  {
   "cell_type": "code",
   "execution_count": 4,
   "id": "24f5a093-0188-459e-84f7-6225a0b86c9f",
   "metadata": {},
   "outputs": [
    {
     "data": {
      "text/plain": [
       "np.int64(100)"
      ]
     },
     "execution_count": 4,
     "metadata": {},
     "output_type": "execute_result"
    }
   ],
   "source": [
    "# Both inputs are scalars => returns a scalar\n",
    "\n",
    "df.loc['Song', 'score']"
   ]
  },
  {
   "cell_type": "code",
   "execution_count": 5,
   "id": "b6d96e08-0a80-4de8-a07e-834f577c5fe4",
   "metadata": {},
   "outputs": [
    {
     "data": {
      "text/plain": [
       "name\n",
       "Biden    10\n",
       "Biden    20\n",
       "Name: score, dtype: int64"
      ]
     },
     "execution_count": 5,
     "metadata": {},
     "output_type": "execute_result"
    }
   ],
   "source": [
    "# Both inputs are scalars, but index is not unique => returns a series\n",
    "\n",
    "df.loc['Biden', 'score']"
   ]
  },
  {
   "cell_type": "code",
   "execution_count": 6,
   "id": "5cc0f243-e6d8-46cc-9a75-71c5299c65f6",
   "metadata": {},
   "outputs": [
    {
     "data": {
      "text/html": [
       "<div>\n",
       "<style scoped>\n",
       "    .dataframe tbody tr th:only-of-type {\n",
       "        vertical-align: middle;\n",
       "    }\n",
       "\n",
       "    .dataframe tbody tr th {\n",
       "        vertical-align: top;\n",
       "    }\n",
       "\n",
       "    .dataframe thead th {\n",
       "        text-align: right;\n",
       "    }\n",
       "</style>\n",
       "<table border=\"1\" class=\"dataframe\">\n",
       "  <thead>\n",
       "    <tr style=\"text-align: right;\">\n",
       "      <th></th>\n",
       "      <th>id</th>\n",
       "      <th>score</th>\n",
       "    </tr>\n",
       "    <tr>\n",
       "      <th>name</th>\n",
       "      <th></th>\n",
       "      <th></th>\n",
       "    </tr>\n",
       "  </thead>\n",
       "  <tbody>\n",
       "    <tr>\n",
       "      <th>Song</th>\n",
       "      <td>0</td>\n",
       "      <td>100</td>\n",
       "    </tr>\n",
       "    <tr>\n",
       "      <th>Biden</th>\n",
       "      <td>1</td>\n",
       "      <td>10</td>\n",
       "    </tr>\n",
       "    <tr>\n",
       "      <th>Biden</th>\n",
       "      <td>2</td>\n",
       "      <td>20</td>\n",
       "    </tr>\n",
       "  </tbody>\n",
       "</table>\n",
       "</div>"
      ],
      "text/plain": [
       "       id  score\n",
       "name            \n",
       "Song    0    100\n",
       "Biden   1     10\n",
       "Biden   2     20"
      ]
     },
     "execution_count": 6,
     "metadata": {},
     "output_type": "execute_result"
    }
   ],
   "source": [
    "# When using slice syntax, loc is inclusive at both ends\n",
    "\n",
    "df.loc['Song':'Biden', 'id':'score']"
   ]
  },
  {
   "cell_type": "markdown",
   "id": "e30efa69-b810-4a9d-96bd-652321e13f98",
   "metadata": {},
   "source": [
    "<h1>iloc</h1>\n",
    "<b>iloc select rows and columns by 0 based integer position</b>\n",
    "\n",
    "<ol>\n",
    "    <li>The 1st entry is the position of the rows</li>\n",
    "    <li>The 2nd entry is the position of the columns</li>\n",
    "</ol>\n",
    "\n",
    "<b>Input & output types</b>\n",
    "<ol>\n",
    "    <li>When both entries are list, even the list has only 1 entry => returns a dataframe</li>\n",
    "    <li>When one of the entries is a scalar => returns a series</li>\n",
    "    <li>When both of the entries are scalar => returns a scalar</li>\n",
    "    <li>If selection does not match any record =>throws an <b>exception</b></li>\n",
    "</ol>\n",
    "\n",
    "<b>When using slice syntax, iloc is inclusive at the begining exclusive at the end</b>\n",
    "<br>\n",
    "<b>Exclusion takes the presidence -> 0:0 => generates empty return</b>"
   ]
  },
  {
   "cell_type": "code",
   "execution_count": 7,
   "id": "b97ccb35-ef50-4aa7-afbc-3e3202384bd5",
   "metadata": {},
   "outputs": [
    {
     "data": {
      "text/html": [
       "<div>\n",
       "<style scoped>\n",
       "    .dataframe tbody tr th:only-of-type {\n",
       "        vertical-align: middle;\n",
       "    }\n",
       "\n",
       "    .dataframe tbody tr th {\n",
       "        vertical-align: top;\n",
       "    }\n",
       "\n",
       "    .dataframe thead th {\n",
       "        text-align: right;\n",
       "    }\n",
       "</style>\n",
       "<table border=\"1\" class=\"dataframe\">\n",
       "  <thead>\n",
       "    <tr style=\"text-align: right;\">\n",
       "      <th></th>\n",
       "      <th>id</th>\n",
       "      <th>score</th>\n",
       "    </tr>\n",
       "    <tr>\n",
       "      <th>name</th>\n",
       "      <th></th>\n",
       "      <th></th>\n",
       "    </tr>\n",
       "  </thead>\n",
       "  <tbody>\n",
       "    <tr>\n",
       "      <th>Song</th>\n",
       "      <td>0</td>\n",
       "      <td>100</td>\n",
       "    </tr>\n",
       "  </tbody>\n",
       "</table>\n",
       "</div>"
      ],
      "text/plain": [
       "      id  score\n",
       "name           \n",
       "Song   0    100"
      ]
     },
     "execution_count": 7,
     "metadata": {},
     "output_type": "execute_result"
    }
   ],
   "source": [
    "# Both inputs are lists => returns a dataframe\n",
    "\n",
    "df.iloc[[0],:]"
   ]
  },
  {
   "cell_type": "code",
   "execution_count": 8,
   "id": "e850871b-6b28-45dc-8ffc-dd0631dfb493",
   "metadata": {},
   "outputs": [
    {
     "data": {
      "text/plain": [
       "id         0\n",
       "score    100\n",
       "Name: Song, dtype: int64"
      ]
     },
     "execution_count": 8,
     "metadata": {},
     "output_type": "execute_result"
    }
   ],
   "source": [
    "# One of the inputs is list => returns a series\n",
    "\n",
    "df.iloc[0,:]"
   ]
  },
  {
   "cell_type": "code",
   "execution_count": 9,
   "id": "ffd937b6-5275-4c49-a2cb-2846e116dd3e",
   "metadata": {},
   "outputs": [
    {
     "data": {
      "text/plain": [
       "np.int64(10)"
      ]
     },
     "execution_count": 9,
     "metadata": {},
     "output_type": "execute_result"
    }
   ],
   "source": [
    "# Both inputs are scalars, but index is not unique => returns a series\n",
    "\n",
    "df.iloc[1, 1]"
   ]
  },
  {
   "cell_type": "code",
   "execution_count": 11,
   "id": "a109bd49-f0ca-497a-8f35-e7ab3dc3aea6",
   "metadata": {},
   "outputs": [
    {
     "data": {
      "text/html": [
       "<div>\n",
       "<style scoped>\n",
       "    .dataframe tbody tr th:only-of-type {\n",
       "        vertical-align: middle;\n",
       "    }\n",
       "\n",
       "    .dataframe tbody tr th {\n",
       "        vertical-align: top;\n",
       "    }\n",
       "\n",
       "    .dataframe thead th {\n",
       "        text-align: right;\n",
       "    }\n",
       "</style>\n",
       "<table border=\"1\" class=\"dataframe\">\n",
       "  <thead>\n",
       "    <tr style=\"text-align: right;\">\n",
       "      <th></th>\n",
       "      <th>id</th>\n",
       "    </tr>\n",
       "    <tr>\n",
       "      <th>name</th>\n",
       "      <th></th>\n",
       "    </tr>\n",
       "  </thead>\n",
       "  <tbody>\n",
       "    <tr>\n",
       "      <th>Song</th>\n",
       "      <td>0</td>\n",
       "    </tr>\n",
       "  </tbody>\n",
       "</table>\n",
       "</div>"
      ],
      "text/plain": [
       "      id\n",
       "name    \n",
       "Song   0"
      ]
     },
     "execution_count": 11,
     "metadata": {},
     "output_type": "execute_result"
    }
   ],
   "source": [
    "# When using slice syntax, iloc is inclusive at the begining and exclusive at the end\n",
    "\n",
    "df.iloc[0:1, 0:1]"
   ]
  },
  {
   "cell_type": "code",
   "execution_count": 13,
   "id": "5ad6b4b8-f7bc-4424-bab6-9ba6ea54d687",
   "metadata": {},
   "outputs": [
    {
     "data": {
      "text/html": [
       "<div>\n",
       "<style scoped>\n",
       "    .dataframe tbody tr th:only-of-type {\n",
       "        vertical-align: middle;\n",
       "    }\n",
       "\n",
       "    .dataframe tbody tr th {\n",
       "        vertical-align: top;\n",
       "    }\n",
       "\n",
       "    .dataframe thead th {\n",
       "        text-align: right;\n",
       "    }\n",
       "</style>\n",
       "<table border=\"1\" class=\"dataframe\">\n",
       "  <thead>\n",
       "    <tr style=\"text-align: right;\">\n",
       "      <th></th>\n",
       "      <th>id</th>\n",
       "    </tr>\n",
       "    <tr>\n",
       "      <th>name</th>\n",
       "      <th></th>\n",
       "    </tr>\n",
       "  </thead>\n",
       "  <tbody>\n",
       "  </tbody>\n",
       "</table>\n",
       "</div>"
      ],
      "text/plain": [
       "Empty DataFrame\n",
       "Columns: [id]\n",
       "Index: []"
      ]
     },
     "execution_count": 13,
     "metadata": {},
     "output_type": "execute_result"
    }
   ],
   "source": [
    "# When 0:0 (empty) -> exclusion takes effect\n",
    "\n",
    "df.iloc[0:0, 0:1]"
   ]
  }
 ],
 "metadata": {
  "kernelspec": {
   "display_name": "Python 3 (ipykernel)",
   "language": "python",
   "name": "python3"
  },
  "language_info": {
   "codemirror_mode": {
    "name": "ipython",
    "version": 3
   },
   "file_extension": ".py",
   "mimetype": "text/x-python",
   "name": "python",
   "nbconvert_exporter": "python",
   "pygments_lexer": "ipython3",
   "version": "3.12.3"
  }
 },
 "nbformat": 4,
 "nbformat_minor": 5
}
