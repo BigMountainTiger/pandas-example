{
 "cells": [
  {
   "cell_type": "code",
   "execution_count": 3,
   "id": "09e18cb4-ceac-4ab7-a9ba-b72f8433421a",
   "metadata": {},
   "outputs": [],
   "source": [
    "import pandas as pd"
   ]
  },
  {
   "cell_type": "markdown",
   "id": "5bf92639-1176-4f49-b662-f4b722912d0a",
   "metadata": {},
   "source": [
    "<h1>1. It is not absolutely sure loc[,] returns a view or a copy</h1>\n",
    "<h4>\n",
    "    <b>View</b>: If the selection can be represented as a contiguous block of memory in the underlying NumPy array, pandas might return a view for efficiency.\n",
    "            This often happens with single-dtype selections\n",
    "</h4>\n",
    "<h4>\n",
    "    <b>Copy</b>: If the selection involves non-contiguous memory blocks or multiple data types,\n",
    "            pandas typically creates a copy to ensure a consistent and performant structure for the new DataFrame\n",
    "</h4>"
   ]
  },
  {
   "cell_type": "markdown",
   "id": "a3fb6799-86fe-4e65-9ca1-544f4e837423",
   "metadata": {},
   "source": [
    "<h1>2. Copy-on-Write (CoW) => Default in pandas 3.0</h1>\n",
    "<h4>Default in pandas 3.0, in lower versions, pd.set_option(\"mode.copy_on_write\", True)</h4>\n",
    "<h4>\n",
    "    <ol>\n",
    "        <li style=\"margin: 10px 10px;\">For setting values, df.loc[...] = value is generally guaranteed to modify the original DataFrame directly, avoiding copies</li>\n",
    "        <li style=\"margin: 10px 10px;\">For selecting data, the return type (view or copy) can vary. With CoW, views are favored, and copies are deferred until modifications occur.\n",
    "            Without CoW, the determination depends on factors like data contiguity and dtype homogeneity.</li>\n",
    "        <li style=\"margin: 10px 10px;\">To ensure you are working with an independent copy, explicitly use the .copy() method: new_df = df.loc[row_indexer, col_indexer].copy()</li>\n",
    "    </ol>\n",
    "</h4>"
   ]
  },
  {
   "cell_type": "markdown",
   "id": "9f4768da-c446-42bf-9442-15a4f28786fe",
   "metadata": {},
   "source": [
    "<h1>3. Conclusion</h1>\n",
    "<h4>Do not try to modify a sub-dataframe to expect the original dataframe is modified, nor vise versa</h4>"
   ]
  }
 ],
 "metadata": {
  "kernelspec": {
   "display_name": "Python 3 (ipykernel)",
   "language": "python",
   "name": "python3"
  },
  "language_info": {
   "codemirror_mode": {
    "name": "ipython",
    "version": 3
   },
   "file_extension": ".py",
   "mimetype": "text/x-python",
   "name": "python",
   "nbconvert_exporter": "python",
   "pygments_lexer": "ipython3",
   "version": "3.12.3"
  }
 },
 "nbformat": 4,
 "nbformat_minor": 5
}
