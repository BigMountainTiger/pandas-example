{
 "cells": [
  {
   "cell_type": "code",
   "execution_count": 103,
   "id": "d5cfaee2-371b-408d-85c9-332ca277772a",
   "metadata": {},
   "outputs": [],
   "source": [
    "import pandas as pd\n",
    "from datetime import date, datetime, time\n",
    "from dateutil.relativedelta import relativedelta"
   ]
  },
  {
   "cell_type": "markdown",
   "id": "d7b6f5f2-7ed7-42ab-992e-533f179ccd06",
   "metadata": {},
   "source": [
    "<h1>1.Default type and convert_dtypes()</h1>\n",
    "<h4>By default when dataframe is created, string and date both get \"object\" type</h4>\n",
    "<h4>The convert_dtypes() method can be used to convert columns of a DataFrame to the <b>\"best possible\"</b> dtypes,\n",
    "        especifically those that support pd.NA for representing missing values</h4>"
   ]
  },
  {
   "cell_type": "code",
   "execution_count": 92,
   "id": "a723d5a4-7822-48fd-bdeb-3d02a4302658",
   "metadata": {},
   "outputs": [
    {
     "name": "stdout",
     "output_type": "stream",
     "text": [
      "<class 'pandas.core.frame.DataFrame'>\n",
      "RangeIndex: 4 entries, 0 to 3\n",
      "Data columns (total 2 columns):\n",
      " #   Column  Non-Null Count  Dtype \n",
      "---  ------  --------------  ----- \n",
      " 0   name    4 non-null      object\n",
      " 1   value   3 non-null      object\n",
      "dtypes: object(2)\n",
      "memory usage: 196.0+ bytes\n",
      "\n",
      "<class 'pandas.core.frame.DataFrame'>\n",
      "RangeIndex: 4 entries, 0 to 3\n",
      "Data columns (total 2 columns):\n",
      " #   Column  Non-Null Count  Dtype \n",
      "---  ------  --------------  ----- \n",
      " 0   name    4 non-null      string\n",
      " 1   value   3 non-null      object\n",
      "dtypes: object(1), string(1)\n",
      "memory usage: 196.0+ bytes\n"
     ]
    }
   ],
   "source": [
    "today = date.today()\n",
    "\n",
    "D = {\n",
    "    'name': ['yesterday', 'today', 'tomorrow', 'anything'],\n",
    "    'value': [None, today, today + relativedelta(days=1), 'This is anything']\n",
    "}\n",
    "\n",
    "df = pd.DataFrame(D)\n",
    "df.info()\n",
    "\n",
    "print()\n",
    "\n",
    "df = df.convert_dtypes()\n",
    "df.info()"
   ]
  },
  {
   "cell_type": "markdown",
   "id": "4a5f0f79-62be-4d3f-9129-7fd06d1b5c6f",
   "metadata": {},
   "source": [
    "<h1>2. The object type</h1>\n",
    "<h4>\n",
    "The \"object\" data type is a general-purpose type used to store any python objects\n",
    "</h4>\n",
    "<h4>\n",
    "Essentially, an \"object\" column stores a collection of arbitrary Python objects, meaning it can hold anything from lists and dictionaries to custom class instances\n",
    "</h4>"
   ]
  },
  {
   "cell_type": "code",
   "execution_count": 54,
   "id": "ff7af979-5226-447e-b165-8bbc834ba4d9",
   "metadata": {},
   "outputs": [
    {
     "name": "stdout",
     "output_type": "stream",
     "text": [
      "yesterday - None - <class 'NoneType'>\n",
      "today - 2025-10-26 - <class 'datetime.date'>\n",
      "tomorrow - 2025-10-27 - <class 'datetime.date'>\n",
      "anything - This is anything - <class 'str'>\n"
     ]
    }
   ],
   "source": [
    "for index, row in df.iterrows():\n",
    "    n, v = row['name'], row['value']\n",
    "    print(f'{n} - {v} - {type(v)}')"
   ]
  },
  {
   "cell_type": "markdown",
   "id": "2b9d16e7-ff50-42f2-94ae-da1f0c5c7850",
   "metadata": {},
   "source": [
    "<h1>3. Check if an object item is null</h1>"
   ]
  },
  {
   "cell_type": "code",
   "execution_count": 57,
   "id": "ce263225-8b87-4eb1-8a04-59128e1f395e",
   "metadata": {},
   "outputs": [
    {
     "data": {
      "text/plain": [
       "0     True\n",
       "1    False\n",
       "2    False\n",
       "3    False\n",
       "Name: value, dtype: bool"
      ]
     },
     "execution_count": 57,
     "metadata": {},
     "output_type": "execute_result"
    }
   ],
   "source": [
    "df['value'].isnull()"
   ]
  },
  {
   "cell_type": "markdown",
   "id": "7ccab992-3d9f-432a-b6c7-8bdd549dd701",
   "metadata": {},
   "source": [
    "<h1>4. the bitwise operators (& for AND, | for OR) are typically NOT short circuited</h1>\n",
    "<h3>\n",
    "    It is safer to use apply for loc[,] if mix typed value is saved in the object column (series), because python \"and/or\" operations are short circuited\n",
    "</h3>"
   ]
  },
  {
   "cell_type": "code",
   "execution_count": 65,
   "id": "96129ccc-bb1f-445b-960b-2bff027706b5",
   "metadata": {},
   "outputs": [
    {
     "data": {
      "text/html": [
       "<div>\n",
       "<style scoped>\n",
       "    .dataframe tbody tr th:only-of-type {\n",
       "        vertical-align: middle;\n",
       "    }\n",
       "\n",
       "    .dataframe tbody tr th {\n",
       "        vertical-align: top;\n",
       "    }\n",
       "\n",
       "    .dataframe thead th {\n",
       "        text-align: right;\n",
       "    }\n",
       "</style>\n",
       "<table border=\"1\" class=\"dataframe\">\n",
       "  <thead>\n",
       "    <tr style=\"text-align: right;\">\n",
       "      <th></th>\n",
       "      <th>name</th>\n",
       "      <th>value</th>\n",
       "    </tr>\n",
       "  </thead>\n",
       "  <tbody>\n",
       "    <tr>\n",
       "      <th>2</th>\n",
       "      <td>tomorrow</td>\n",
       "      <td>2025-10-27</td>\n",
       "    </tr>\n",
       "  </tbody>\n",
       "</table>\n",
       "</div>"
      ],
      "text/plain": [
       "       name       value\n",
       "2  tomorrow  2025-10-27"
      ]
     },
     "execution_count": 65,
     "metadata": {},
     "output_type": "execute_result"
    }
   ],
   "source": [
    "df.loc[df['value'].apply(lambda x: (x is not None) and isinstance(x, date) and x > date.today()), :]"
   ]
  },
  {
   "cell_type": "markdown",
   "id": "256f7f22-be71-40d0-95df-76fc0329ffc2",
   "metadata": {},
   "source": [
    "<h1>5. loc[,] with None</h1>\n",
    "<h4>\n",
    "    Compare with None in pandas result in false\n",
    "</h4>"
   ]
  },
  {
   "cell_type": "code",
   "execution_count": 93,
   "id": "e0dfc81e-2c6b-4bc2-a237-2b1c84109bda",
   "metadata": {},
   "outputs": [],
   "source": [
    "today = date.today()\n",
    "df = pd.DataFrame({\n",
    "    'name': ['yesterday', 'today', 'tomorrow'],\n",
    "    'value': [None, today, today + relativedelta(days=1)]\n",
    "})"
   ]
  },
  {
   "cell_type": "code",
   "execution_count": 86,
   "id": "1492bf21-057a-45b6-b58c-ee14a05d1e9e",
   "metadata": {},
   "outputs": [
    {
     "data": {
      "text/plain": [
       "0    False\n",
       "1    False\n",
       "2    False\n",
       "Name: value, dtype: bool"
      ]
     },
     "execution_count": 86,
     "metadata": {},
     "output_type": "execute_result"
    }
   ],
   "source": [
    "df['value'] < today"
   ]
  },
  {
   "cell_type": "code",
   "execution_count": 88,
   "id": "c06e7a71-f8d6-4206-8987-9fd34bcb9e1d",
   "metadata": {},
   "outputs": [
    {
     "data": {
      "text/plain": [
       "0    False\n",
       "1     True\n",
       "2    False\n",
       "Name: value, dtype: bool"
      ]
     },
     "execution_count": 88,
     "metadata": {},
     "output_type": "execute_result"
    }
   ],
   "source": [
    "df['value'] == today"
   ]
  },
  {
   "cell_type": "code",
   "execution_count": 91,
   "id": "3d515be7-d025-415e-a162-dadba8a336ef",
   "metadata": {},
   "outputs": [
    {
     "data": {
      "text/plain": [
       "0    False\n",
       "1    False\n",
       "2     True\n",
       "Name: value, dtype: bool"
      ]
     },
     "execution_count": 91,
     "metadata": {},
     "output_type": "execute_result"
    }
   ],
   "source": [
    "df['value'] > today"
   ]
  },
  {
   "cell_type": "markdown",
   "id": "49ddf903-60b2-4f26-8973-023918817769",
   "metadata": {},
   "source": [
    "<h1>date & datetime</h1>\n",
    "\n",
    "<h4>date and datetime are not the same data type</h4>\n",
    "<h4>They are not directly comparable</h4>\n",
    "<h4>Need to convert to do the comparison</h4>"
   ]
  },
  {
   "cell_type": "code",
   "execution_count": 95,
   "id": "f8b9b9d0-42a9-423a-9373-95dfaa5eb946",
   "metadata": {},
   "outputs": [],
   "source": [
    "today = date.today()\n",
    "now = datetime.now()"
   ]
  },
  {
   "cell_type": "code",
   "execution_count": 105,
   "id": "352dffad-9c64-49a9-9f8f-7516d3df87f8",
   "metadata": {},
   "outputs": [
    {
     "data": {
      "text/plain": [
       "True"
      ]
     },
     "execution_count": 105,
     "metadata": {},
     "output_type": "execute_result"
    }
   ],
   "source": [
    "today == now.date()"
   ]
  }
 ],
 "metadata": {
  "kernelspec": {
   "display_name": "Python 3 (ipykernel)",
   "language": "python",
   "name": "python3"
  },
  "language_info": {
   "codemirror_mode": {
    "name": "ipython",
    "version": 3
   },
   "file_extension": ".py",
   "mimetype": "text/x-python",
   "name": "python",
   "nbconvert_exporter": "python",
   "pygments_lexer": "ipython3",
   "version": "3.12.3"
  }
 },
 "nbformat": 4,
 "nbformat_minor": 5
}
