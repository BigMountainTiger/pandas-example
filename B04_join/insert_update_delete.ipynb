{
 "cells": [
  {
   "cell_type": "code",
   "execution_count": 1,
   "id": "fd8d45b7-b69c-4678-87ce-d584b843b708",
   "metadata": {},
   "outputs": [],
   "source": [
    "import pandas as pd\n",
    "\n",
    "def create_df(data):\n",
    "    df = pd.DataFrame(data)\n",
    "\n",
    "    # Remove columns with empty names\n",
    "    df = df.loc[:, ~df.columns.str.contains('^Unnamed')]\n",
    "\n",
    "    # Replace spaces in the column names by '_'\n",
    "    df = df.rename(columns={c[0]: c[0].replace(' ', '_').lower() for c in df.dtypes.items()})\n",
    "\n",
    "    return df"
   ]
  },
  {
   "cell_type": "code",
   "execution_count": 3,
   "id": "6969055e-aa37-4e4f-b472-bb2d6057195f",
   "metadata": {},
   "outputs": [
    {
     "name": "stdout",
     "output_type": "stream",
     "text": [
      "\n",
      "df1\n",
      "-----------------------------\n",
      "   id      name\n",
      "0   1  name_1_1\n",
      "1   2  name_2_1\n",
      "2   3  name_3_1\n",
      "\n",
      "df2\n",
      "-----------------------------\n",
      "   id      name\n",
      "0   2  name_2_2\n",
      "1   3  name_3_2\n",
      "2   4  name_4_2\n"
     ]
    }
   ],
   "source": [
    "D1 = {\n",
    "    'id': [1, 2, 3],\n",
    "    'name': ['name_1_1', 'name_2_1', 'name_3_1']\n",
    "}\n",
    "\n",
    "D2 = {\n",
    "    'id': [2, 3, 4],\n",
    "    'name': ['name_2_2', 'name_3_2', 'name_4_2']\n",
    "}\n",
    "\n",
    "df1 = create_df(D1)\n",
    "df2 = create_df(D2)\n",
    "\n",
    "print('\\ndf1')\n",
    "print('-----------------------------')\n",
    "print(df1)\n",
    "\n",
    "print('\\ndf2')\n",
    "print('-----------------------------')\n",
    "print(df2)"
   ]
  },
  {
   "cell_type": "code",
   "execution_count": 9,
   "id": "56b7575b-a513-4e35-bf69-efd3adb14dd2",
   "metadata": {},
   "outputs": [
    {
     "name": "stdout",
     "output_type": "stream",
     "text": [
      "   id      name    name_r      _merge\n",
      "0   1  name_1_1       NaN   left_only\n",
      "1   2  name_2_1  name_2_2        both\n",
      "2   3  name_3_1  name_3_2        both\n",
      "3   4       NaN  name_4_2  right_only\n"
     ]
    }
   ],
   "source": [
    "# inner, left, right, outer (full outer), cross\n",
    "df_merged = df1.merge(df2, left_on=['id'], right_on=['id'], how='outer', suffixes=('', '_r'), indicator=True)\n",
    "\n",
    "print(df_merged)"
   ]
  }
 ],
 "metadata": {
  "kernelspec": {
   "display_name": "Python 3 (ipykernel)",
   "language": "python",
   "name": "python3"
  },
  "language_info": {
   "codemirror_mode": {
    "name": "ipython",
    "version": 3
   },
   "file_extension": ".py",
   "mimetype": "text/x-python",
   "name": "python",
   "nbconvert_exporter": "python",
   "pygments_lexer": "ipython3",
   "version": "3.12.3"
  }
 },
 "nbformat": 4,
 "nbformat_minor": 5
}
