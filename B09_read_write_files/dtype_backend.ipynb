{
 "cells": [
  {
   "cell_type": "code",
   "execution_count": 23,
   "id": "4ad76eb9-0930-4a29-98af-03d035d29cbd",
   "metadata": {},
   "outputs": [],
   "source": [
    "import pandas as pd\n",
    "from datetime import date\n",
    "from dateutil.relativedelta import relativedelta"
   ]
  },
  {
   "cell_type": "markdown",
   "id": "ae3ea0be-7941-4ab6-aceb-8fe6d7084e79",
   "metadata": {},
   "source": [
    "<h1>There are 3 types of dtype_backend</h1>\n",
    "<h3>numpy (default for older versions)</h3>\n",
    "<ul>\n",
    "    <li><b>Integer</b> columns with <b>missing data</b> are typically upcast to a float64 type, with missing values represented as np.nan (Not a Number).\n",
    "        This is a significant drawback, as it can be memory-inefficient and change the data type <b>unexpectedly</b></li>\n",
    "    <li><b>String</b> columns with missing data are often stored as <b>dtype('O')</b>, a generic Python object type, which is <b>less performant</b> than dedicated string types</li>\n",
    "</ul>\n",
    "\n",
    "<h3>numpy_nullable</h3>\n",
    "<ul>\n",
    "    <li>The numpy_nullable backend uses pandas' specialized extension dtypes to support null values without changing the underlying data type</li>\n",
    "    <li>Integer columns with missing values remain as integer-based types (Int64, Int32, etc.)</li>\n",
    "    <li>Dtypes like StringDtype and BooleanDtype provide a more explicit and efficient representation than the generic object dtype</li>\n",
    "</ul>\n",
    "\n",
    "<h3>pyarrow</h3>\n",
    "<ul>\n",
    "    <li><b>Superior performance</b>: Can provide faster I/O operations (reading and writing data) and more efficient memory usage, especially for string data</li>\n",
    "    <li><b>Memory efficiency</b>: Arrow-based data often uses less memory than standard NumPy-backed data</li>\n",
    "    <li><b>Native null handling</b>: Provides robust support for null values within all data types, including integers and booleans</li>\n",
    "    <li><b>Interoperability</b>: Facilitates seamless data transfer to and from other systems\n",
    "        that use the Apache Arrow format, such as distributed computing frameworks and databases</li>\n",
    "</ul>"
   ]
  },
  {
   "cell_type": "code",
   "execution_count": 28,
   "id": "e48fd6d8-fe33-4b70-8d81-7f3a276a5fcd",
   "metadata": {},
   "outputs": [],
   "source": [
    "def get_df():\n",
    "    today = date.today()\n",
    "    return pd.DataFrame({\n",
    "        'name': ['yesterday', 'today', 'tomorrow'],\n",
    "        'value': [None, today, today + relativedelta(days=1)]\n",
    "    })"
   ]
  },
  {
   "cell_type": "markdown",
   "id": "ae56c147-b113-48fc-8ff5-018c80e244d5",
   "metadata": {},
   "source": [
    "<h1>Without conversion, dataframe is default in numpy dtype_backend</h1>"
   ]
  },
  {
   "cell_type": "code",
   "execution_count": 26,
   "id": "ce50c7f9-3770-4ff0-9ea8-b4eea999e9b4",
   "metadata": {},
   "outputs": [
    {
     "name": "stdout",
     "output_type": "stream",
     "text": [
      "<class 'pandas.core.frame.DataFrame'>\n",
      "RangeIndex: 3 entries, 0 to 2\n",
      "Data columns (total 2 columns):\n",
      " #   Column  Non-Null Count  Dtype \n",
      "---  ------  --------------  ----- \n",
      " 0   name    3 non-null      object\n",
      " 1   value   2 non-null      object\n",
      "dtypes: object(2)\n",
      "memory usage: 180.0+ bytes\n"
     ]
    },
    {
     "data": {
      "text/html": [
       "<div>\n",
       "<style scoped>\n",
       "    .dataframe tbody tr th:only-of-type {\n",
       "        vertical-align: middle;\n",
       "    }\n",
       "\n",
       "    .dataframe tbody tr th {\n",
       "        vertical-align: top;\n",
       "    }\n",
       "\n",
       "    .dataframe thead th {\n",
       "        text-align: right;\n",
       "    }\n",
       "</style>\n",
       "<table border=\"1\" class=\"dataframe\">\n",
       "  <thead>\n",
       "    <tr style=\"text-align: right;\">\n",
       "      <th></th>\n",
       "      <th>name</th>\n",
       "      <th>value</th>\n",
       "    </tr>\n",
       "  </thead>\n",
       "  <tbody>\n",
       "    <tr>\n",
       "      <th>0</th>\n",
       "      <td>yesterday</td>\n",
       "      <td>None</td>\n",
       "    </tr>\n",
       "    <tr>\n",
       "      <th>1</th>\n",
       "      <td>today</td>\n",
       "      <td>2025-10-29</td>\n",
       "    </tr>\n",
       "    <tr>\n",
       "      <th>2</th>\n",
       "      <td>tomorrow</td>\n",
       "      <td>2025-10-30</td>\n",
       "    </tr>\n",
       "  </tbody>\n",
       "</table>\n",
       "</div>"
      ],
      "text/plain": [
       "        name       value\n",
       "0  yesterday        None\n",
       "1      today  2025-10-29\n",
       "2   tomorrow  2025-10-30"
      ]
     },
     "execution_count": 26,
     "metadata": {},
     "output_type": "execute_result"
    }
   ],
   "source": [
    "df = get_df()\n",
    "df.info()\n",
    "\n",
    "df"
   ]
  },
  {
   "cell_type": "markdown",
   "id": "f3d91c54-3c68-4cc8-ad30-125b69617445",
   "metadata": {},
   "source": [
    "<h1>Convert to numpy_nullable</h1>"
   ]
  },
  {
   "cell_type": "code",
   "execution_count": 27,
   "id": "448e8d24-2dbf-4b37-a973-294b9f67be72",
   "metadata": {},
   "outputs": [
    {
     "name": "stdout",
     "output_type": "stream",
     "text": [
      "<class 'pandas.core.frame.DataFrame'>\n",
      "RangeIndex: 3 entries, 0 to 2\n",
      "Data columns (total 2 columns):\n",
      " #   Column  Non-Null Count  Dtype \n",
      "---  ------  --------------  ----- \n",
      " 0   name    3 non-null      string\n",
      " 1   value   2 non-null      object\n",
      "dtypes: object(1), string(1)\n",
      "memory usage: 180.0+ bytes\n"
     ]
    },
    {
     "data": {
      "text/html": [
       "<div>\n",
       "<style scoped>\n",
       "    .dataframe tbody tr th:only-of-type {\n",
       "        vertical-align: middle;\n",
       "    }\n",
       "\n",
       "    .dataframe tbody tr th {\n",
       "        vertical-align: top;\n",
       "    }\n",
       "\n",
       "    .dataframe thead th {\n",
       "        text-align: right;\n",
       "    }\n",
       "</style>\n",
       "<table border=\"1\" class=\"dataframe\">\n",
       "  <thead>\n",
       "    <tr style=\"text-align: right;\">\n",
       "      <th></th>\n",
       "      <th>name</th>\n",
       "      <th>value</th>\n",
       "    </tr>\n",
       "  </thead>\n",
       "  <tbody>\n",
       "    <tr>\n",
       "      <th>0</th>\n",
       "      <td>yesterday</td>\n",
       "      <td>None</td>\n",
       "    </tr>\n",
       "    <tr>\n",
       "      <th>1</th>\n",
       "      <td>today</td>\n",
       "      <td>2025-10-29</td>\n",
       "    </tr>\n",
       "    <tr>\n",
       "      <th>2</th>\n",
       "      <td>tomorrow</td>\n",
       "      <td>2025-10-30</td>\n",
       "    </tr>\n",
       "  </tbody>\n",
       "</table>\n",
       "</div>"
      ],
      "text/plain": [
       "        name       value\n",
       "0  yesterday        None\n",
       "1      today  2025-10-29\n",
       "2   tomorrow  2025-10-30"
      ]
     },
     "execution_count": 27,
     "metadata": {},
     "output_type": "execute_result"
    }
   ],
   "source": [
    "df = get_df().convert_dtypes(dtype_backend='numpy_nullable')\n",
    "df.info()\n",
    "\n",
    "df"
   ]
  },
  {
   "cell_type": "markdown",
   "id": "751448bc-96ea-45f0-974d-8a562172ff6f",
   "metadata": {},
   "source": [
    "<h1>Convert to pyarrow</h1>"
   ]
  },
  {
   "cell_type": "code",
   "execution_count": 30,
   "id": "ef14b086-55ab-427a-9be2-67bedf39b1bd",
   "metadata": {},
   "outputs": [
    {
     "name": "stdout",
     "output_type": "stream",
     "text": [
      "<class 'pandas.core.frame.DataFrame'>\n",
      "RangeIndex: 3 entries, 0 to 2\n",
      "Data columns (total 2 columns):\n",
      " #   Column  Non-Null Count  Dtype          \n",
      "---  ------  --------------  -----          \n",
      " 0   name    3 non-null      string[pyarrow]\n",
      " 1   value   2 non-null      object         \n",
      "dtypes: object(1), string[pyarrow](1)\n",
      "memory usage: 190.0+ bytes\n"
     ]
    },
    {
     "data": {
      "text/html": [
       "<div>\n",
       "<style scoped>\n",
       "    .dataframe tbody tr th:only-of-type {\n",
       "        vertical-align: middle;\n",
       "    }\n",
       "\n",
       "    .dataframe tbody tr th {\n",
       "        vertical-align: top;\n",
       "    }\n",
       "\n",
       "    .dataframe thead th {\n",
       "        text-align: right;\n",
       "    }\n",
       "</style>\n",
       "<table border=\"1\" class=\"dataframe\">\n",
       "  <thead>\n",
       "    <tr style=\"text-align: right;\">\n",
       "      <th></th>\n",
       "      <th>name</th>\n",
       "      <th>value</th>\n",
       "    </tr>\n",
       "  </thead>\n",
       "  <tbody>\n",
       "    <tr>\n",
       "      <th>0</th>\n",
       "      <td>yesterday</td>\n",
       "      <td>None</td>\n",
       "    </tr>\n",
       "    <tr>\n",
       "      <th>1</th>\n",
       "      <td>today</td>\n",
       "      <td>2025-10-29</td>\n",
       "    </tr>\n",
       "    <tr>\n",
       "      <th>2</th>\n",
       "      <td>tomorrow</td>\n",
       "      <td>2025-10-30</td>\n",
       "    </tr>\n",
       "  </tbody>\n",
       "</table>\n",
       "</div>"
      ],
      "text/plain": [
       "        name       value\n",
       "0  yesterday        None\n",
       "1      today  2025-10-29\n",
       "2   tomorrow  2025-10-30"
      ]
     },
     "execution_count": 30,
     "metadata": {},
     "output_type": "execute_result"
    }
   ],
   "source": [
    "df = get_df().convert_dtypes(dtype_backend='pyarrow')\n",
    "df.info()\n",
    "\n",
    "df"
   ]
  },
  {
   "cell_type": "markdown",
   "id": "a14cd126-5f05-412c-9349-3657f2c8657f",
   "metadata": {},
   "source": [
    "<h1>It is not possible to set the dtype_backend globally yet</h1>\n",
    "<h4>As of pandas 2.3 - no option to set global dtype_backend</h4>\n",
    "<a href=\"https://pandas.pydata.org/docs/reference/api/pandas.get_option.html\">https://pandas.pydata.org/docs/reference/api/pandas.get_option.html</a>"
   ]
  }
 ],
 "metadata": {
  "kernelspec": {
   "display_name": "Python 3 (ipykernel)",
   "language": "python",
   "name": "python3"
  },
  "language_info": {
   "codemirror_mode": {
    "name": "ipython",
    "version": 3
   },
   "file_extension": ".py",
   "mimetype": "text/x-python",
   "name": "python",
   "nbconvert_exporter": "python",
   "pygments_lexer": "ipython3",
   "version": "3.12.3"
  }
 },
 "nbformat": 4,
 "nbformat_minor": 5
}
