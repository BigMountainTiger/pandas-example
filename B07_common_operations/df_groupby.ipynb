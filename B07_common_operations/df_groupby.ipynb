{
 "cells": [
  {
   "cell_type": "code",
   "execution_count": 1,
   "id": "fe0c882e-b06a-4cf7-b36b-bf6ae9974db9",
   "metadata": {},
   "outputs": [],
   "source": [
    "import pandas as pd"
   ]
  },
  {
   "cell_type": "code",
   "execution_count": 4,
   "id": "43af66d4-db71-4ea9-af38-53ba3002b56f",
   "metadata": {},
   "outputs": [],
   "source": [
    "D = {\n",
    "    'class': ['English', 'English', 'Math', 'Math'],\n",
    "    'student': ['Song', 'Trump', 'Song', 'Trump'],\n",
    "    'score': [100, 10, 20, 90]\n",
    "}\n",
    "df = pd.DataFrame(D)"
   ]
  },
  {
   "cell_type": "code",
   "execution_count": 6,
   "id": "62346f18-1975-4199-8d5b-bed59fd06d4e",
   "metadata": {},
   "outputs": [
    {
     "data": {
      "text/html": [
       "<div>\n",
       "<style scoped>\n",
       "    .dataframe tbody tr th:only-of-type {\n",
       "        vertical-align: middle;\n",
       "    }\n",
       "\n",
       "    .dataframe tbody tr th {\n",
       "        vertical-align: top;\n",
       "    }\n",
       "\n",
       "    .dataframe thead th {\n",
       "        text-align: right;\n",
       "    }\n",
       "</style>\n",
       "<table border=\"1\" class=\"dataframe\">\n",
       "  <thead>\n",
       "    <tr style=\"text-align: right;\">\n",
       "      <th></th>\n",
       "      <th>class</th>\n",
       "      <th>student</th>\n",
       "      <th>score</th>\n",
       "    </tr>\n",
       "  </thead>\n",
       "  <tbody>\n",
       "    <tr>\n",
       "      <th>0</th>\n",
       "      <td>English</td>\n",
       "      <td>Song</td>\n",
       "      <td>100</td>\n",
       "    </tr>\n",
       "    <tr>\n",
       "      <th>1</th>\n",
       "      <td>English</td>\n",
       "      <td>Trump</td>\n",
       "      <td>10</td>\n",
       "    </tr>\n",
       "    <tr>\n",
       "      <th>2</th>\n",
       "      <td>Math</td>\n",
       "      <td>Song</td>\n",
       "      <td>20</td>\n",
       "    </tr>\n",
       "    <tr>\n",
       "      <th>3</th>\n",
       "      <td>Math</td>\n",
       "      <td>Trump</td>\n",
       "      <td>90</td>\n",
       "    </tr>\n",
       "  </tbody>\n",
       "</table>\n",
       "</div>"
      ],
      "text/plain": [
       "     class student  score\n",
       "0  English    Song    100\n",
       "1  English   Trump     10\n",
       "2     Math    Song     20\n",
       "3     Math   Trump     90"
      ]
     },
     "execution_count": 6,
     "metadata": {},
     "output_type": "execute_result"
    }
   ],
   "source": [
    "df"
   ]
  },
  {
   "cell_type": "code",
   "execution_count": 13,
   "id": "116449f4-0983-4045-b279-5199793daa40",
   "metadata": {},
   "outputs": [
    {
     "name": "stdout",
     "output_type": "stream",
     "text": [
      "g is a tuple - ('English', 'Song')\n",
      "     class student  score\n",
      "0  English    Song    100\n",
      "\n",
      "g is a tuple - ('English', 'Trump')\n",
      "     class student  score\n",
      "1  English   Trump     10\n",
      "\n",
      "g is a tuple - ('Math', 'Song')\n",
      "  class student  score\n",
      "2  Math    Song     20\n",
      "\n",
      "g is a tuple - ('Math', 'Trump')\n",
      "  class student  score\n",
      "3  Math   Trump     90\n",
      "\n"
     ]
    }
   ],
   "source": [
    "dfs = df.groupby(['class', 'student'])\n",
    "\n",
    "for g, df_sub in dfs:\n",
    "    print(f'g is a tuple - {g}')\n",
    "    print(df_sub)\n",
    "    print()"
   ]
  }
 ],
 "metadata": {
  "kernelspec": {
   "display_name": "Python 3 (ipykernel)",
   "language": "python",
   "name": "python3"
  },
  "language_info": {
   "codemirror_mode": {
    "name": "ipython",
    "version": 3
   },
   "file_extension": ".py",
   "mimetype": "text/x-python",
   "name": "python",
   "nbconvert_exporter": "python",
   "pygments_lexer": "ipython3",
   "version": "3.12.3"
  }
 },
 "nbformat": 4,
 "nbformat_minor": 5
}
