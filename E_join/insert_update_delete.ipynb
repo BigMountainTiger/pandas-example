{
 "cells": [
  {
   "cell_type": "code",
   "execution_count": 2,
   "id": "fd8d45b7-b69c-4678-87ce-d584b843b708",
   "metadata": {},
   "outputs": [],
   "source": [
    "import pandas as pd"
   ]
  },
  {
   "cell_type": "code",
   "execution_count": 18,
   "id": "6969055e-aa37-4e4f-b472-bb2d6057195f",
   "metadata": {},
   "outputs": [
    {
     "name": "stdout",
     "output_type": "stream",
     "text": [
      "\n",
      "df1\n",
      "-----------------------------\n",
      "   id      name\n",
      "0   1  name_1_1\n",
      "1   2  name_2_1\n",
      "2   3  name_3_1\n",
      "\n",
      "df2\n",
      "-----------------------------\n",
      "   id      name\n",
      "0   2  name_2_2\n",
      "1   3  name_3_2\n",
      "2   4  name_4_2\n"
     ]
    }
   ],
   "source": [
    "D1 = {\n",
    "    'id': [1, 2, 3],\n",
    "    'name': ['name_1_1', 'name_2_1', 'name_3_1']\n",
    "}\n",
    "\n",
    "D2 = {\n",
    "    'id': [2, 3, 4],\n",
    "    'name': ['name_2_2', 'name_3_2', 'name_4_2']\n",
    "}\n",
    "\n",
    "df1 = pd.DataFrame(D1)\n",
    "df2 = pd.DataFrame(D2)\n",
    "\n",
    "print('\\ndf1')\n",
    "print('-----------------------------')\n",
    "print(df1)\n",
    "\n",
    "print('\\ndf2')\n",
    "print('-----------------------------')\n",
    "print(df2)"
   ]
  }
 ],
 "metadata": {
  "kernelspec": {
   "display_name": "Python 3 (ipykernel)",
   "language": "python",
   "name": "python3"
  },
  "language_info": {
   "codemirror_mode": {
    "name": "ipython",
    "version": 3
   },
   "file_extension": ".py",
   "mimetype": "text/x-python",
   "name": "python",
   "nbconvert_exporter": "python",
   "pygments_lexer": "ipython3",
   "version": "3.12.3"
  }
 },
 "nbformat": 4,
 "nbformat_minor": 5
}
