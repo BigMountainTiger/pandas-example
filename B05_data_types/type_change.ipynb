{
 "cells": [
  {
   "cell_type": "code",
   "execution_count": 2,
   "id": "6cc5bee8-54b2-4529-8437-45b18a2549c4",
   "metadata": {},
   "outputs": [],
   "source": [
    "import pandas as pd"
   ]
  },
  {
   "cell_type": "code",
   "execution_count": 35,
   "id": "f295f630-a665-444c-b1a3-fd539a20161d",
   "metadata": {},
   "outputs": [
    {
     "name": "stdout",
     "output_type": "stream",
     "text": [
      "<class 'pandas.core.frame.DataFrame'>\n",
      "RangeIndex: 2 entries, 0 to 1\n",
      "Data columns (total 2 columns):\n",
      " #   Column  Non-Null Count  Dtype \n",
      "---  ------  --------------  ----- \n",
      " 0   class   2 non-null      object\n",
      " 1   score   1 non-null      Int32 \n",
      "dtypes: Int32(1), object(1)\n",
      "memory usage: 158.0+ bytes\n"
     ]
    }
   ],
   "source": [
    "df1 = pd.DataFrame({\n",
    "    'class': ['English', 'Math'],\n",
    "    'score': [None, 80]\n",
    "})\n",
    "df1['score'] = df1['score'].astype('Int32')\n",
    "\n",
    "df1.info()"
   ]
  },
  {
   "cell_type": "code",
   "execution_count": 62,
   "id": "70bc1431-0771-4236-a24d-2367b2047fea",
   "metadata": {},
   "outputs": [
    {
     "name": "stdout",
     "output_type": "stream",
     "text": [
      "<class 'pandas.core.frame.DataFrame'>\n",
      "RangeIndex: 2 entries, 0 to 1\n",
      "Data columns (total 2 columns):\n",
      " #   Column  Non-Null Count  Dtype \n",
      "---  ------  --------------  ----- \n",
      " 0   class   2 non-null      object\n",
      " 1   score   0 non-null      Int32 \n",
      "dtypes: Int32(1), object(1)\n",
      "memory usage: 158.0+ bytes\n"
     ]
    }
   ],
   "source": [
    "df2 = pd.DataFrame({\n",
    "    'class': ['Science', 'Sports'],\n",
    "    'score': [None, None]\n",
    "})\n",
    "df2['score'] = df2['score'].astype('Int32')\n",
    "\n",
    "df2.info()"
   ]
  },
  {
   "cell_type": "markdown",
   "id": "1d56f3af-b2ff-46b7-8895-6c872b4f4a78",
   "metadata": {},
   "source": [
    "<h4>It is better to have the same type for the column to concat()</h4>\n",
    "<h4>If the same column from different frames have different types, the more generic one will be the type of the result frame</h4>"
   ]
  },
  {
   "cell_type": "code",
   "execution_count": 63,
   "id": "83b6601a-cc66-44e5-9ca6-c318a53f77ce",
   "metadata": {},
   "outputs": [
    {
     "name": "stdout",
     "output_type": "stream",
     "text": [
      "<class 'pandas.core.frame.DataFrame'>\n",
      "Index: 4 entries, 0 to 1\n",
      "Data columns (total 2 columns):\n",
      " #   Column  Non-Null Count  Dtype \n",
      "---  ------  --------------  ----- \n",
      " 0   class   4 non-null      object\n",
      " 1   score   1 non-null      Int32 \n",
      "dtypes: Int32(1), object(1)\n",
      "memory usage: 84.0+ bytes\n"
     ]
    }
   ],
   "source": [
    "df = pd.concat([df1, df2])\n",
    "df.info()"
   ]
  }
 ],
 "metadata": {
  "kernelspec": {
   "display_name": "Python 3 (ipykernel)",
   "language": "python",
   "name": "python3"
  },
  "language_info": {
   "codemirror_mode": {
    "name": "ipython",
    "version": 3
   },
   "file_extension": ".py",
   "mimetype": "text/x-python",
   "name": "python",
   "nbconvert_exporter": "python",
   "pygments_lexer": "ipython3",
   "version": "3.12.3"
  }
 },
 "nbformat": 4,
 "nbformat_minor": 5
}
