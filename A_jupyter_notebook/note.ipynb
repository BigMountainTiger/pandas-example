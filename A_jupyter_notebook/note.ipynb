{
 "cells": [
  {
   "cell_type": "markdown",
   "id": "f5c23ecd-9f4f-45c6-854a-0b3034925ea3",
   "metadata": {},
   "source": [
    "<b>1. Install</b>\n",
    "\n",
    "https://jupyter.org/\n",
    "<br>\n",
    "juyter can be installed in a virtualenv\n",
    "\n",
    "<b>pip install jupyterlab</b>\n",
    "\n",
    "Intall contrib extentions for additional features - https://jupyter-contrib-nbextensions.readthedocs.io/en/latest/install.html\n",
    "<br>\n",
    "<b>pip install jupyter_contrib_nbextensions</b>\n",
    "<br>\n",
    "<b>Configure</b> => \"Settings\" -> \"Settings Editor\" -> \"Code Completion\" -> \"Enable autocompletion\"\n",
    "<br>\n",
    "<b>Jupyter configurations are saved in the ~/.jupyter/ directory</b>"
   ]
  },
  {
   "cell_type": "markdown",
   "id": "b364b427-3553-462c-8a1c-c788df4d8878",
   "metadata": {},
   "source": [
    "<b>2. Start jupyter</b>\n",
    "\n",
    "cd working-directory && jupyter lab"
   ]
  },
  {
   "cell_type": "markdown",
   "id": "45683ae8-a509-473b-b877-100f084226e1",
   "metadata": {},
   "source": [
    "<b>3. A jupyter session works like a python interactive mode session</b>\n",
    "\n",
    "<ol>\n",
    "    <li>The jupyter kernal keeps the context</li>\n",
    "    <li>We can run each cell independently</li>\n",
    "    <li>We do not need to run the cells in order</li>\n",
    "</ol>"
   ]
  },
  {
   "cell_type": "markdown",
   "id": "1835188e-383d-4eb7-95a8-27473471a8eb",
   "metadata": {},
   "source": [
    "<b>4. Cells</b>\n",
    "\n",
    "<ol>\n",
    "    <li>A cell is a basic execution unit of a note book</li>\n",
    "    <li>A cell has command mode and editing mode. Press enter to go to the editing mode, press \"Esc\" to go to the command mode</li>\n",
    "    <li>In the command mode, pressing \"a\" adds a cell before the current</li>\n",
    "    <li>In the command mode, pressing \"b\" adds a cell after the current</li>\n",
    "    <li>In the command mode, double pressing \"d\" deletes the current cell</li>\n",
    "</ol>"
   ]
  },
  {
   "cell_type": "markdown",
   "id": "35c6e175-a7aa-4e66-a2c6-d5b2ee9f95ea",
   "metadata": {},
   "source": [
    "<b>4. Markdown</b>\n",
    "\n",
    "<ol>\n",
    "    <li>In the command mode, pressing \"m\" turn a cell into a markdown cell</li>\n",
    "    <li>jupyter markdown is a superset of the HTML</li>\n",
    "</ol>"
   ]
  },
  {
   "cell_type": "markdown",
   "id": "b4525fc1-167b-4563-a99c-3ea34e75490a",
   "metadata": {},
   "source": [
    "<b>5. Execute<b>\n",
    "\n",
    "<ol>\n",
    "    <li>Press \"Ctrl\"+\"Enter\" execute the current cell</li>\n",
    "    <li>Press \"Shift\"+\"Enter\" execute the current cell and create a new cell after the current</li>\n",
    "    <li>We can re-run all the cells in order by re-starting the jupyter kernal</li>\n",
    "</ol>"
   ]
  },
  {
   "cell_type": "markdown",
   "id": "ef945753-11b6-4d6a-b537-d4f67862c335",
   "metadata": {},
   "source": [
    "<b>6. Shell commands</b>\n",
    "\n",
    "<ol>\n",
    "    <li>Adding \"%\" or \"!\" in front the command allows to run shell commands</li>\n",
    "    <li>With \"%\", the command runs in the same process, but we can run only a limited number of commands</li>\n",
    "    <li>With \"!\", the command runs in a different process</li>\n",
    "</ol>"
   ]
  },
  {
   "cell_type": "markdown",
   "id": "7f0c3a3a-d9aa-4704-9556-446fa6c7c4e2",
   "metadata": {},
   "source": [
    "<b>7. Convert .ipynb to .py</b>\n",
    "\n",
    "It is possible to convert the notebook file to python file:\n",
    "\n",
    "jupyter nbconvert --to script 'note.ipynb'"
   ]
  }
 ],
 "metadata": {
  "kernelspec": {
   "display_name": "Python 3 (ipykernel)",
   "language": "python",
   "name": "python3"
  },
  "language_info": {
   "codemirror_mode": {
    "name": "ipython",
    "version": 3
   },
   "file_extension": ".py",
   "mimetype": "text/x-python",
   "name": "python",
   "nbconvert_exporter": "python",
   "pygments_lexer": "ipython3",
   "version": "3.12.3"
  }
 },
 "nbformat": 4,
 "nbformat_minor": 5
}
