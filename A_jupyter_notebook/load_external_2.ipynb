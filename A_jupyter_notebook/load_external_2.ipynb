{
 "cells": [
  {
   "cell_type": "code",
   "execution_count": 49,
   "id": "01269fb2-4d3b-4603-ae2e-dd70b31dc68f",
   "metadata": {},
   "outputs": [
    {
     "name": "stdout",
     "output_type": "stream",
     "text": [
      "The autoreload extension is already loaded. To reload it, use:\n",
      "  %reload_ext autoreload\n"
     ]
    }
   ],
   "source": [
    "# https://ipython.org/ipython-doc/3/config/extensions/autoreload.html\n",
    "\n",
    "%load_ext autoreload\n",
    "%autoreload 1"
   ]
  },
  {
   "cell_type": "code",
   "execution_count": 55,
   "id": "e2525e33-612e-443d-b92d-8b32e5349fc3",
   "metadata": {},
   "outputs": [],
   "source": [
    "# It is ok to assign an alias to objects loaded by\n",
    "# %aimport\n",
    "\n",
    "%aimport external_file\n",
    "ef = external_file"
   ]
  },
  {
   "cell_type": "code",
   "execution_count": 57,
   "id": "0f6db557-5b67-4a9d-8e3b-233c8c57e599",
   "metadata": {},
   "outputs": [
    {
     "name": "stdout",
     "output_type": "stream",
     "text": [
      "The value?\n",
      "\n",
      "CPU times: user 380 μs, sys: 0 ns, total: 380 μs\n",
      "Wall time: 503 μs\n"
     ]
    }
   ],
   "source": [
    "%%time\n",
    "print(ef.example_function())\n",
    "print()"
   ]
  }
 ],
 "metadata": {
  "kernelspec": {
   "display_name": "Python 3 (ipykernel)",
   "language": "python",
   "name": "python3"
  },
  "language_info": {
   "codemirror_mode": {
    "name": "ipython",
    "version": 3
   },
   "file_extension": ".py",
   "mimetype": "text/x-python",
   "name": "python",
   "nbconvert_exporter": "python",
   "pygments_lexer": "ipython3",
   "version": "3.12.3"
  }
 },
 "nbformat": 4,
 "nbformat_minor": 5
}
