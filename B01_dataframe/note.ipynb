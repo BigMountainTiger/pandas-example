{
 "cells": [
  {
   "cell_type": "markdown",
   "id": "93a0f2c4-c8aa-4ae5-900e-7150082ea134",
   "metadata": {},
   "source": [
    "<b>Install pandas</b>\n",
    "\n",
    "pip install pandas"
   ]
  },
  {
   "cell_type": "code",
   "execution_count": 1,
   "id": "2104e907-3e5c-4bb2-bdf8-d2c39719758b",
   "metadata": {},
   "outputs": [],
   "source": [
    "import pandas as pd"
   ]
  },
  {
   "cell_type": "code",
   "execution_count": 2,
   "id": "2babc92d-76d2-4283-8550-2ed6aabb8ddd",
   "metadata": {},
   "outputs": [
    {
     "data": {
      "text/html": [
       "<div>\n",
       "<style scoped>\n",
       "    .dataframe tbody tr th:only-of-type {\n",
       "        vertical-align: middle;\n",
       "    }\n",
       "\n",
       "    .dataframe tbody tr th {\n",
       "        vertical-align: top;\n",
       "    }\n",
       "\n",
       "    .dataframe thead th {\n",
       "        text-align: right;\n",
       "    }\n",
       "</style>\n",
       "<table border=\"1\" class=\"dataframe\">\n",
       "  <thead>\n",
       "    <tr style=\"text-align: right;\">\n",
       "      <th></th>\n",
       "      <th>id</th>\n",
       "      <th>name</th>\n",
       "      <th>score</th>\n",
       "    </tr>\n",
       "  </thead>\n",
       "  <tbody>\n",
       "    <tr>\n",
       "      <th>0</th>\n",
       "      <td>0</td>\n",
       "      <td>Song</td>\n",
       "      <td>100</td>\n",
       "    </tr>\n",
       "    <tr>\n",
       "      <th>1</th>\n",
       "      <td>1</td>\n",
       "      <td>Biden</td>\n",
       "      <td>10</td>\n",
       "    </tr>\n",
       "    <tr>\n",
       "      <th>2</th>\n",
       "      <td>2</td>\n",
       "      <td>Biden</td>\n",
       "      <td>20</td>\n",
       "    </tr>\n",
       "    <tr>\n",
       "      <th>3</th>\n",
       "      <td>3</td>\n",
       "      <td>Potato</td>\n",
       "      <td>90</td>\n",
       "    </tr>\n",
       "  </tbody>\n",
       "</table>\n",
       "</div>"
      ],
      "text/plain": [
       "   id    name  score\n",
       "0   0    Song    100\n",
       "1   1   Biden     10\n",
       "2   2   Biden     20\n",
       "3   3  Potato     90"
      ]
     },
     "execution_count": 2,
     "metadata": {},
     "output_type": "execute_result"
    }
   ],
   "source": [
    "# A pandas data frame is structurely similar to a dictionary of lists\n",
    "D = {\n",
    "    'id': [0, 1, 2, 3],\n",
    "    'name': ['Song', 'Biden', 'Biden', 'Potato'],\n",
    "    'score': [100, 10, 20, 90]\n",
    "}\n",
    "\n",
    "# Create a dataframe from a dictionary\n",
    "# Default index is a 0 based sequence of integers\n",
    "pd.DataFrame(D)"
   ]
  },
  {
   "cell_type": "code",
   "execution_count": 3,
   "id": "ce5bd700-561c-4416-9caa-7d8b707df391",
   "metadata": {},
   "outputs": [],
   "source": [
    "df = pd.DataFrame(D)\n",
    "\n",
    "# Pandas does not enforce the uniqueness of the index\n",
    "df = df.set_index('name')"
   ]
  },
  {
   "cell_type": "code",
   "execution_count": 4,
   "id": "99c496f0-49f5-40a2-848b-be09b3b6dbd6",
   "metadata": {},
   "outputs": [
    {
     "data": {
      "text/plain": [
       "name\n",
       "Song      100\n",
       "Biden      10\n",
       "Biden      20\n",
       "Potato     90\n",
       "Name: score, dtype: int64"
      ]
     },
     "execution_count": 4,
     "metadata": {},
     "output_type": "execute_result"
    }
   ],
   "source": [
    "# We can get a column from a dataframe like the following\n",
    "student_scores = df['score']\n",
    "student_scores"
   ]
  },
  {
   "cell_type": "code",
   "execution_count": 5,
   "id": "7e9b766b-1acd-4451-a6ae-4fc2de9753e9",
   "metadata": {},
   "outputs": [
    {
     "data": {
      "text/plain": [
       "name\n",
       "Biden    10\n",
       "Biden    20\n",
       "Name: score, dtype: int64"
      ]
     },
     "execution_count": 5,
     "metadata": {},
     "output_type": "execute_result"
    }
   ],
   "source": [
    "# We can further get the data from the column by the \"index\" label\n",
    "# If the index is not unique, we get a series\n",
    "student_scores['Biden']"
   ]
  },
  {
   "cell_type": "code",
   "execution_count": 6,
   "id": "79e04376-301e-4900-8266-b2f3eed0dfd0",
   "metadata": {},
   "outputs": [
    {
     "data": {
      "text/plain": [
       "np.int64(100)"
      ]
     },
     "execution_count": 6,
     "metadata": {},
     "output_type": "execute_result"
    }
   ],
   "source": [
    "# If the index is unique, we get the value\n",
    "student_scores['Song']"
   ]
  }
 ],
 "metadata": {
  "kernelspec": {
   "display_name": "Python 3 (ipykernel)",
   "language": "python",
   "name": "python3"
  },
  "language_info": {
   "codemirror_mode": {
    "name": "ipython",
    "version": 3
   },
   "file_extension": ".py",
   "mimetype": "text/x-python",
   "name": "python",
   "nbconvert_exporter": "python",
   "pygments_lexer": "ipython3",
   "version": "3.12.3"
  }
 },
 "nbformat": 4,
 "nbformat_minor": 5
}
