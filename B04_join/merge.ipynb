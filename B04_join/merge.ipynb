{
 "cells": [
  {
   "cell_type": "code",
   "execution_count": 2,
   "id": "a8f8fffa-f9a7-454f-9eb7-7ee5eb25d518",
   "metadata": {},
   "outputs": [],
   "source": [
    "import pandas as pd"
   ]
  },
  {
   "cell_type": "markdown",
   "id": "10cfb97f-610c-4b44-9c20-2eada4fdbc2b",
   "metadata": {},
   "source": [
    "<h1>Merge provides simple syntax for join</h1>"
   ]
  },
  {
   "cell_type": "markdown",
   "id": "a732ad1e-9cd5-4e23-b86d-ce52c3c6dc08",
   "metadata": {},
   "source": [
    "<h3>inner join</h3>"
   ]
  },
  {
   "cell_type": "code",
   "execution_count": 3,
   "id": "5459fce5-4f74-4459-bcd0-082257422c83",
   "metadata": {},
   "outputs": [
    {
     "name": "stdout",
     "output_type": "stream",
     "text": [
      "   id   name\n",
      "0   1   Song\n",
      "1   2  Biden\n",
      "2   3  Trump\n",
      "\n",
      "   student_id  score\n",
      "0           1    100\n",
      "1           3     20\n",
      "2         100     90\n",
      "\n",
      "   id   name  student_id  score\n",
      "0   1   Song           1    100\n",
      "1   3  Trump           3     20\n"
     ]
    }
   ],
   "source": [
    "student = pd.DataFrame({\n",
    "    'id': [1, 2, 3],\n",
    "    'name': ['Song', 'Biden', 'Trump'],\n",
    "})\n",
    "\n",
    "student_score = pd.DataFrame({\n",
    "    'student_id': [1, 3, 100],\n",
    "    'score': [100, 20, 90],\n",
    "})\n",
    "\n",
    "\n",
    "result = student.merge(student_score, how='inner', left_on=['id'], right_on=['student_id'])\n",
    "\n",
    "print(student)\n",
    "print()\n",
    "print(student_score)\n",
    "print()\n",
    "print(result)"
   ]
  },
  {
   "cell_type": "markdown",
   "id": "9cb3ffcb-91a3-4cff-9f70-3d4bf1a1026c",
   "metadata": {},
   "source": [
    "<h3>left join</h3>"
   ]
  },
  {
   "cell_type": "code",
   "execution_count": 4,
   "id": "d48bcdaa-9226-42c0-90dc-911cec442cca",
   "metadata": {},
   "outputs": [
    {
     "name": "stdout",
     "output_type": "stream",
     "text": [
      "   id   name\n",
      "0   1   Song\n",
      "1   2  Biden\n",
      "2   3  Trump\n",
      "\n",
      "   student_id  score\n",
      "0           1    100\n",
      "1           3     20\n",
      "2         100     90\n",
      "\n",
      "   id   name  student_id  score\n",
      "0   1   Song         1.0  100.0\n",
      "1   2  Biden         NaN    NaN\n",
      "2   3  Trump         3.0   20.0\n"
     ]
    }
   ],
   "source": [
    "student = pd.DataFrame({\n",
    "    'id': [1, 2, 3],\n",
    "    'name': ['Song', 'Biden', 'Trump'],\n",
    "})\n",
    "\n",
    "student_score = pd.DataFrame({\n",
    "    'student_id': [1, 3, 100],\n",
    "    'score': [100, 20, 90],\n",
    "})\n",
    "\n",
    "\n",
    "result = student.merge(student_score, how='left', left_on=['id'], right_on=['student_id'])\n",
    "\n",
    "print(student)\n",
    "print()\n",
    "print(student_score)\n",
    "print()\n",
    "print(result)"
   ]
  },
  {
   "cell_type": "markdown",
   "id": "5feea412-5756-425b-a59d-5483de11fb2e",
   "metadata": {},
   "source": [
    "<h3>right join</h3>"
   ]
  },
  {
   "cell_type": "code",
   "execution_count": 5,
   "id": "8fcdbf02-ca0c-4058-995c-12b39d5e0f81",
   "metadata": {},
   "outputs": [
    {
     "name": "stdout",
     "output_type": "stream",
     "text": [
      "   id   name\n",
      "0   1   Song\n",
      "1   2  Biden\n",
      "2   3  Trump\n",
      "\n",
      "   student_id  score\n",
      "0           1    100\n",
      "1           3     20\n",
      "2         100     90\n",
      "\n",
      "    id   name  student_id  score\n",
      "0  1.0   Song           1    100\n",
      "1  3.0  Trump           3     20\n",
      "2  NaN    NaN         100     90\n"
     ]
    }
   ],
   "source": [
    "student = pd.DataFrame({\n",
    "    'id': [1, 2, 3],\n",
    "    'name': ['Song', 'Biden', 'Trump'],\n",
    "})\n",
    "\n",
    "student_score = pd.DataFrame({\n",
    "    'student_id': [1, 3, 100],\n",
    "    'score': [100, 20, 90],\n",
    "})\n",
    "\n",
    "\n",
    "result = student.merge(student_score, how='right', left_on=['id'], right_on=['student_id'])\n",
    "\n",
    "print(student)\n",
    "print()\n",
    "print(student_score)\n",
    "print()\n",
    "print(result)"
   ]
  }
 ],
 "metadata": {
  "kernelspec": {
   "display_name": "Python 3 (ipykernel)",
   "language": "python",
   "name": "python3"
  },
  "language_info": {
   "codemirror_mode": {
    "name": "ipython",
    "version": 3
   },
   "file_extension": ".py",
   "mimetype": "text/x-python",
   "name": "python",
   "nbconvert_exporter": "python",
   "pygments_lexer": "ipython3",
   "version": "3.12.3"
  }
 },
 "nbformat": 4,
 "nbformat_minor": 5
}
