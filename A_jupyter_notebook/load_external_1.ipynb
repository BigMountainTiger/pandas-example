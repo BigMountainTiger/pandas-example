{
 "cells": [
  {
   "cell_type": "markdown",
   "id": "444f4b36-4a51-4258-b37b-1ffd2e5ce551",
   "metadata": {},
   "source": [
    "<a href=\"https://ipython.org/ipython-doc/3/config/extensions/autoreload.html\">\n",
    "https://ipython.org/ipython-doc/3/config/extensions/autoreload.html    \n",
    "</a>\n",
    "\n",
    "```\n",
    "%load_ext autoreload\n",
    "```\n",
    "<b>This magic command loads the autoreload extension</b>\n",
    "\n",
    "```\n",
    "%autoreload 1\n",
    "```\n",
    "<b>Reload all modules imported with %aimport every time before executing the Python code typed</b>\n",
    "\n",
    "```\n",
    "%autoreload 2\n",
    "```\n",
    "<b>Reload all modules (except those excluded by %aimport) every time before executing the Python code typed</b>\n",
    "<br>\n",
    "<b>It looks like the module reload only happens when there is a change in the module. so %autoreload 2 is acceptable</b>\n"
   ]
  },
  {
   "cell_type": "code",
   "execution_count": 1,
   "id": "01269fb2-4d3b-4603-ae2e-dd70b31dc68f",
   "metadata": {},
   "outputs": [],
   "source": [
    "%load_ext autoreload\n",
    "%autoreload 2"
   ]
  },
  {
   "cell_type": "code",
   "execution_count": 2,
   "id": "e2525e33-612e-443d-b92d-8b32e5349fc3",
   "metadata": {},
   "outputs": [],
   "source": [
    "import external_file"
   ]
  },
  {
   "cell_type": "code",
   "execution_count": 22,
   "id": "3609b3c9-3b90-4a78-840a-e0b1b725bfce",
   "metadata": {},
   "outputs": [
    {
     "name": "stdout",
     "output_type": "stream",
     "text": [
      "2025-09-13\n",
      "2025-09-14\n"
     ]
    }
   ],
   "source": [
    "start_date, end_date = external_file.get_date_range()\n",
    "print(start_date)\n",
    "print(end_date)"
   ]
  },
  {
   "cell_type": "code",
   "execution_count": 23,
   "id": "f10f2e28-a3c3-4a85-895f-0369d9dbdaa4",
   "metadata": {},
   "outputs": [
    {
     "name": "stdout",
     "output_type": "stream",
     "text": [
      "Processing 2025-09-13\n",
      "Processing 2025-09-14\n"
     ]
    }
   ],
   "source": [
    "external_file.main()"
   ]
  }
 ],
 "metadata": {
  "kernelspec": {
   "display_name": "Python 3 (ipykernel)",
   "language": "python",
   "name": "python3"
  },
  "language_info": {
   "codemirror_mode": {
    "name": "ipython",
    "version": 3
   },
   "file_extension": ".py",
   "mimetype": "text/x-python",
   "name": "python",
   "nbconvert_exporter": "python",
   "pygments_lexer": "ipython3",
   "version": "3.12.3"
  }
 },
 "nbformat": 4,
 "nbformat_minor": 5
}
