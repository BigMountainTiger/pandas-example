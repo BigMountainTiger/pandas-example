{
 "cells": [
  {
   "cell_type": "code",
   "execution_count": 7,
   "id": "12035528-48e6-4670-84db-3f1545926aae",
   "metadata": {},
   "outputs": [
    {
     "data": {
      "text/html": [
       "<div>\n",
       "<style scoped>\n",
       "    .dataframe tbody tr th:only-of-type {\n",
       "        vertical-align: middle;\n",
       "    }\n",
       "\n",
       "    .dataframe tbody tr th {\n",
       "        vertical-align: top;\n",
       "    }\n",
       "\n",
       "    .dataframe thead th {\n",
       "        text-align: right;\n",
       "    }\n",
       "</style>\n",
       "<table border=\"1\" class=\"dataframe\">\n",
       "  <thead>\n",
       "    <tr style=\"text-align: right;\">\n",
       "      <th></th>\n",
       "      <th>name</th>\n",
       "      <th>score</th>\n",
       "    </tr>\n",
       "    <tr>\n",
       "      <th>id</th>\n",
       "      <th></th>\n",
       "      <th></th>\n",
       "    </tr>\n",
       "  </thead>\n",
       "  <tbody>\n",
       "    <tr>\n",
       "      <th>0</th>\n",
       "      <td>Song</td>\n",
       "      <td>100</td>\n",
       "    </tr>\n",
       "    <tr>\n",
       "      <th>1</th>\n",
       "      <td>Biden</td>\n",
       "      <td>10</td>\n",
       "    </tr>\n",
       "    <tr>\n",
       "      <th>2</th>\n",
       "      <td>Biden</td>\n",
       "      <td>20</td>\n",
       "    </tr>\n",
       "    <tr>\n",
       "      <th>3</th>\n",
       "      <td>Potato</td>\n",
       "      <td>90</td>\n",
       "    </tr>\n",
       "  </tbody>\n",
       "</table>\n",
       "</div>"
      ],
      "text/plain": [
       "      name  score\n",
       "id               \n",
       "0     Song    100\n",
       "1    Biden     10\n",
       "2    Biden     20\n",
       "3   Potato     90"
      ]
     },
     "execution_count": 7,
     "metadata": {},
     "output_type": "execute_result"
    }
   ],
   "source": [
    "import pandas as pd\n",
    "\n",
    "D = {\n",
    "    'id': [0, 1, 2, 3],\n",
    "    'name': ['Song', 'Biden', 'Biden', 'Potato'],\n",
    "    'score': [100, 10, 20, 90]\n",
    "}\n",
    "\n",
    "df = pd.DataFrame(D)\n",
    "df.set_index('id', inplace=True)\n",
    "\n",
    "df"
   ]
  },
  {
   "cell_type": "markdown",
   "id": "fb6b05ab-32c0-4d46-a357-81c92f76ce41",
   "metadata": {},
   "source": [
    "<b>1. isin on index</b>"
   ]
  },
  {
   "cell_type": "code",
   "execution_count": 8,
   "id": "5804f0fe-ea3b-4b10-9615-a774b74f74b8",
   "metadata": {},
   "outputs": [
    {
     "data": {
      "text/html": [
       "<div>\n",
       "<style scoped>\n",
       "    .dataframe tbody tr th:only-of-type {\n",
       "        vertical-align: middle;\n",
       "    }\n",
       "\n",
       "    .dataframe tbody tr th {\n",
       "        vertical-align: top;\n",
       "    }\n",
       "\n",
       "    .dataframe thead th {\n",
       "        text-align: right;\n",
       "    }\n",
       "</style>\n",
       "<table border=\"1\" class=\"dataframe\">\n",
       "  <thead>\n",
       "    <tr style=\"text-align: right;\">\n",
       "      <th></th>\n",
       "      <th>name</th>\n",
       "      <th>score</th>\n",
       "    </tr>\n",
       "    <tr>\n",
       "      <th>id</th>\n",
       "      <th></th>\n",
       "      <th></th>\n",
       "    </tr>\n",
       "  </thead>\n",
       "  <tbody>\n",
       "    <tr>\n",
       "      <th>0</th>\n",
       "      <td>Song</td>\n",
       "      <td>100</td>\n",
       "    </tr>\n",
       "    <tr>\n",
       "      <th>1</th>\n",
       "      <td>Biden</td>\n",
       "      <td>10</td>\n",
       "    </tr>\n",
       "    <tr>\n",
       "      <th>2</th>\n",
       "      <td>Biden</td>\n",
       "      <td>20</td>\n",
       "    </tr>\n",
       "  </tbody>\n",
       "</table>\n",
       "</div>"
      ],
      "text/plain": [
       "     name  score\n",
       "id              \n",
       "0    Song    100\n",
       "1   Biden     10\n",
       "2   Biden     20"
      ]
     },
     "execution_count": 8,
     "metadata": {},
     "output_type": "execute_result"
    }
   ],
   "source": [
    "sub_df = df.loc[df.index <= 2, :]\n",
    "\n",
    "another_df = df.loc[df.index.isin(sub_df.index), :]\n",
    "another_df"
   ]
  },
  {
   "cell_type": "markdown",
   "id": "fa15af0d-4dc8-490d-b787-732b95c6feb9",
   "metadata": {},
   "source": [
    "<b>2. isin on a column</b>"
   ]
  },
  {
   "cell_type": "code",
   "execution_count": 9,
   "id": "cdf1e042-df6e-41dc-beca-e6d24dab2dbc",
   "metadata": {},
   "outputs": [
    {
     "data": {
      "text/html": [
       "<div>\n",
       "<style scoped>\n",
       "    .dataframe tbody tr th:only-of-type {\n",
       "        vertical-align: middle;\n",
       "    }\n",
       "\n",
       "    .dataframe tbody tr th {\n",
       "        vertical-align: top;\n",
       "    }\n",
       "\n",
       "    .dataframe thead th {\n",
       "        text-align: right;\n",
       "    }\n",
       "</style>\n",
       "<table border=\"1\" class=\"dataframe\">\n",
       "  <thead>\n",
       "    <tr style=\"text-align: right;\">\n",
       "      <th></th>\n",
       "      <th>name</th>\n",
       "      <th>score</th>\n",
       "    </tr>\n",
       "    <tr>\n",
       "      <th>id</th>\n",
       "      <th></th>\n",
       "      <th></th>\n",
       "    </tr>\n",
       "  </thead>\n",
       "  <tbody>\n",
       "    <tr>\n",
       "      <th>0</th>\n",
       "      <td>Song</td>\n",
       "      <td>100</td>\n",
       "    </tr>\n",
       "    <tr>\n",
       "      <th>3</th>\n",
       "      <td>Potato</td>\n",
       "      <td>90</td>\n",
       "    </tr>\n",
       "  </tbody>\n",
       "</table>\n",
       "</div>"
      ],
      "text/plain": [
       "      name  score\n",
       "id               \n",
       "0     Song    100\n",
       "3   Potato     90"
      ]
     },
     "execution_count": 9,
     "metadata": {},
     "output_type": "execute_result"
    }
   ],
   "source": [
    "sub_df = df.loc[df.index.isin([0, 3]), :]\n",
    "\n",
    "another_df = df.loc[df['name'].isin(sub_df['name']), :]\n",
    "another_df"
   ]
  },
  {
   "cell_type": "markdown",
   "id": "97cf6c57-bd6a-4659-a043-91ef035a894d",
   "metadata": {},
   "source": [
    "<b>3. isin works on lists</b>"
   ]
  },
  {
   "cell_type": "code",
   "execution_count": 10,
   "id": "1d086f98-62ee-4825-8dad-9a0b8eb6b2ea",
   "metadata": {},
   "outputs": [
    {
     "data": {
      "text/html": [
       "<div>\n",
       "<style scoped>\n",
       "    .dataframe tbody tr th:only-of-type {\n",
       "        vertical-align: middle;\n",
       "    }\n",
       "\n",
       "    .dataframe tbody tr th {\n",
       "        vertical-align: top;\n",
       "    }\n",
       "\n",
       "    .dataframe thead th {\n",
       "        text-align: right;\n",
       "    }\n",
       "</style>\n",
       "<table border=\"1\" class=\"dataframe\">\n",
       "  <thead>\n",
       "    <tr style=\"text-align: right;\">\n",
       "      <th></th>\n",
       "      <th>name</th>\n",
       "      <th>score</th>\n",
       "    </tr>\n",
       "    <tr>\n",
       "      <th>id</th>\n",
       "      <th></th>\n",
       "      <th></th>\n",
       "    </tr>\n",
       "  </thead>\n",
       "  <tbody>\n",
       "    <tr>\n",
       "      <th>0</th>\n",
       "      <td>Song</td>\n",
       "      <td>100</td>\n",
       "    </tr>\n",
       "    <tr>\n",
       "      <th>1</th>\n",
       "      <td>Biden</td>\n",
       "      <td>10</td>\n",
       "    </tr>\n",
       "    <tr>\n",
       "      <th>2</th>\n",
       "      <td>Biden</td>\n",
       "      <td>20</td>\n",
       "    </tr>\n",
       "  </tbody>\n",
       "</table>\n",
       "</div>"
      ],
      "text/plain": [
       "     name  score\n",
       "id              \n",
       "0    Song    100\n",
       "1   Biden     10\n",
       "2   Biden     20"
      ]
     },
     "execution_count": 10,
     "metadata": {},
     "output_type": "execute_result"
    }
   ],
   "source": [
    "df.loc[df['name'].isin(['Song', 'Biden']), :]"
   ]
  },
  {
   "cell_type": "markdown",
   "id": "0ec86c22-26f1-45f4-b2c3-eae97b92ffc0",
   "metadata": {},
   "source": [
    "<b>4. isin() function works on composite indices</b>"
   ]
  },
  {
   "cell_type": "code",
   "execution_count": 12,
   "id": "f9b615a2-0c2e-49ae-9d6c-71209f621960",
   "metadata": {},
   "outputs": [
    {
     "name": "stdout",
     "output_type": "stream",
     "text": [
      "df1--------------------\n",
      "           value\n",
      "id_1 id_2       \n",
      "1    1        11\n",
      "     2        12\n",
      "2    1        21\n",
      "     2        22\n",
      "3    1        31\n",
      "df2--------------------\n",
      "           value\n",
      "id_1 id_2       \n",
      "1    1        11\n",
      "     2        12\n",
      "2    1        21\n",
      "4    1        41\n",
      "     2        42\n",
      "result--------------------\n",
      "           value\n",
      "id_1 id_2       \n",
      "1    1        11\n",
      "     2        12\n",
      "2    1        21\n"
     ]
    }
   ],
   "source": [
    "D = {\n",
    "    'id_1': [1, 1, 2, 2, 3],\n",
    "    'id_2': [1, 2, 1, 2, 1],\n",
    "    'value': [11, 12, 21, 22, 31]\n",
    "}\n",
    "\n",
    "df1 = pd.DataFrame(D)\n",
    "df1.set_index(['id_1', 'id_2'], inplace=True)\n",
    "\n",
    "D = {\n",
    "    'id_1': [1, 1, 2, 4, 4],\n",
    "    'id_2': [1, 2, 1, 1, 2],\n",
    "    'value': [11, 12, 21, 41, 42]\n",
    "}\n",
    "\n",
    "df2 = pd.DataFrame(D)\n",
    "df2.set_index(['id_1', 'id_2'], inplace=True)\n",
    "\n",
    "print('df1--------------------')\n",
    "print(df1)\n",
    "print('df2--------------------')\n",
    "print(df2)\n",
    "\n",
    "result = df1.loc[df1.index.isin(df2.index), :]\n",
    "print('result--------------------')\n",
    "print(result)"
   ]
  }
 ],
 "metadata": {
  "kernelspec": {
   "display_name": "Python 3 (ipykernel)",
   "language": "python",
   "name": "python3"
  },
  "language_info": {
   "codemirror_mode": {
    "name": "ipython",
    "version": 3
   },
   "file_extension": ".py",
   "mimetype": "text/x-python",
   "name": "python",
   "nbconvert_exporter": "python",
   "pygments_lexer": "ipython3",
   "version": "3.12.3"
  }
 },
 "nbformat": 4,
 "nbformat_minor": 5
}
