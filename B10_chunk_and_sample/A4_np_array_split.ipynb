{
 "cells": [
  {
   "cell_type": "code",
   "execution_count": 5,
   "id": "73dbf7fa-a058-4353-b909-478ba03816f9",
   "metadata": {},
   "outputs": [],
   "source": [
    "import pandas as pd\n",
    "import numpy as np"
   ]
  },
  {
   "cell_type": "code",
   "execution_count": 4,
   "id": "7d55eed8-582a-402d-bcbb-bc3dcdb4aef0",
   "metadata": {},
   "outputs": [],
   "source": [
    "D = {\n",
    "    'class': ['English', 'English', 'Math', 'Math'],\n",
    "    'student': ['Song', 'Trump', 'Song', 'Trump'],\n",
    "    'score': [100, 10, 20, 90]\n",
    "}\n",
    "df = pd.DataFrame(D)"
   ]
  },
  {
   "cell_type": "markdown",
   "id": "4357b2d1-aded-4f2f-8f39-ea9905870970",
   "metadata": {},
   "source": [
    "<h1>np.array_split can be used to split a dataframe</h1>\n",
    "\n",
    "<h4>1. np.array_split() can split roughly equal sized smaller dataframes</h4>\n",
    "<h4>2. If necessary, copy() should be used to create a copy of the sub-dataframe, \"copy()\" default bahavior is deep=True. This is because loc[] create a view, modificatons can cause confusions</h4>\n",
    "<h4>3. If the lengh of the dataframe is smaller than the no_of_chunks, \n",
    "    <b>\"empty\"</b> chunks can be created</h4>"
   ]
  },
  {
   "cell_type": "code",
   "execution_count": 11,
   "id": "02c2fa11-f3e9-4860-99e6-0e9c582b9345",
   "metadata": {},
   "outputs": [
    {
     "name": "stdout",
     "output_type": "stream",
     "text": [
      "     class student  score\n",
      "0  English    Song    100\n",
      "1  English   Trump     10\n",
      "\n",
      "  class student  score\n",
      "2  Math    Song     20\n",
      "\n",
      "  class student  score\n",
      "3  Math   Trump     90\n",
      "\n"
     ]
    }
   ],
   "source": [
    "no_of_chunks = 3\n",
    "\n",
    "dfs = []\n",
    "indices = np.array_split(df.index, no_of_chunks)\n",
    "for chunk_idx in indices:\n",
    "    if len(chunk_idx) == 0:\n",
    "        dfs.append(None)\n",
    "        continue\n",
    "\n",
    "    df_split = df.loc[chunk_idx].copy()\n",
    "    dfs.append(df_split)\n",
    "\n",
    "for df_split in dfs:\n",
    "    print(df_split); print()\n",
    "    "
   ]
  }
 ],
 "metadata": {
  "kernelspec": {
   "display_name": "Python 3 (ipykernel)",
   "language": "python",
   "name": "python3"
  },
  "language_info": {
   "codemirror_mode": {
    "name": "ipython",
    "version": 3
   },
   "file_extension": ".py",
   "mimetype": "text/x-python",
   "name": "python",
   "nbconvert_exporter": "python",
   "pygments_lexer": "ipython3",
   "version": "3.12.3"
  }
 },
 "nbformat": 4,
 "nbformat_minor": 5
}
