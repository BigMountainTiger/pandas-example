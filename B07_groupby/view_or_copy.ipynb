{
 "cells": [
  {
   "cell_type": "code",
   "execution_count": 2,
   "id": "8a4cbeb1-f79f-45e4-a1ba-b239c3ca1e27",
   "metadata": {},
   "outputs": [],
   "source": [
    "import pandas as pd"
   ]
  },
  {
   "cell_type": "code",
   "execution_count": 30,
   "id": "904f35eb-cb1f-4ae3-9d6f-96a3b49db807",
   "metadata": {},
   "outputs": [
    {
     "name": "stdout",
     "output_type": "stream",
     "text": [
      "<class 'pandas.core.frame.DataFrame'>\n",
      "RangeIndex: 4 entries, 0 to 3\n",
      "Data columns (total 3 columns):\n",
      " #   Column   Non-Null Count  Dtype \n",
      "---  ------   --------------  ----- \n",
      " 0   class    4 non-null      string\n",
      " 1   student  4 non-null      string\n",
      " 2   score    4 non-null      Int64 \n",
      "dtypes: Int64(1), string(2)\n",
      "memory usage: 232.0 bytes\n"
     ]
    }
   ],
   "source": [
    "df = pd.DataFrame({\n",
    "    'class': ['English', 'English', 'Math', 'Math'],\n",
    "    'student': ['Song', 'Trump', 'Song', 'Trump'],\n",
    "    'score': [100, 10, 20, 90]\n",
    "}).convert_dtypes()\n",
    "df.info()"
   ]
  },
  {
   "cell_type": "markdown",
   "id": "17d488cb-68ff-4c0c-9b4c-014a495573fc",
   "metadata": {},
   "source": [
    "<h1>Check if a group is a view or a copy</h1>"
   ]
  },
  {
   "cell_type": "code",
   "execution_count": 37,
   "id": "2f599f23-ba48-4411-a192-439116400868",
   "metadata": {},
   "outputs": [
    {
     "name": "stdout",
     "output_type": "stream",
     "text": [
      "False\n",
      "False\n"
     ]
    }
   ],
   "source": [
    "dfs = df.groupby(['class'])\n",
    "\n",
    "for _, df_sub in dfs:\n",
    "    print(df_sub._is_view)"
   ]
  },
  {
   "cell_type": "markdown",
   "id": "e77acde7-eff7-48de-94ee-d40f9854f6a5",
   "metadata": {},
   "source": [
    "<h1>Conclusion</h1>\n",
    "<h4>1. It is not predicable if a pandas operation returns copy of view</h4>\n",
    "<h4>2. Always treat them as if they are views</h4>\n",
    "<h4>3. If needed, make them explicit copy()</h4>"
   ]
  }
 ],
 "metadata": {
  "kernelspec": {
   "display_name": "Python 3 (ipykernel)",
   "language": "python",
   "name": "python3"
  },
  "language_info": {
   "codemirror_mode": {
    "name": "ipython",
    "version": 3
   },
   "file_extension": ".py",
   "mimetype": "text/x-python",
   "name": "python",
   "nbconvert_exporter": "python",
   "pygments_lexer": "ipython3",
   "version": "3.12.3"
  }
 },
 "nbformat": 4,
 "nbformat_minor": 5
}
