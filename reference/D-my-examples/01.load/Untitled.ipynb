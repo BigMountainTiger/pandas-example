{
 "cells": [
  {
   "cell_type": "code",
   "execution_count": 1,
   "id": "767bd1ff-82a9-41f7-a5a4-300678fd0a62",
   "metadata": {},
   "outputs": [],
   "source": [
    "import pandas as pd"
   ]
  },
  {
   "cell_type": "code",
   "execution_count": 2,
   "id": "01c58c83-9d7c-4529-bc17-24fc251dd0b0",
   "metadata": {},
   "outputs": [],
   "source": [
    "# This is the covid-19 data\n",
    "# https://covid19.who.int/info/\n",
    "\n",
    "df = pd.read_csv('https://covid19.who.int/WHO-COVID-19-global-data.csv')"
   ]
  },
  {
   "cell_type": "code",
   "execution_count": 3,
   "id": "3a846e16-c72e-4c57-962e-16fc448b4ba1",
   "metadata": {},
   "outputs": [
    {
     "data": {
      "text/html": [
       "<div>\n",
       "<style scoped>\n",
       "    .dataframe tbody tr th:only-of-type {\n",
       "        vertical-align: middle;\n",
       "    }\n",
       "\n",
       "    .dataframe tbody tr th {\n",
       "        vertical-align: top;\n",
       "    }\n",
       "\n",
       "    .dataframe thead th {\n",
       "        text-align: right;\n",
       "    }\n",
       "</style>\n",
       "<table border=\"1\" class=\"dataframe\">\n",
       "  <thead>\n",
       "    <tr style=\"text-align: right;\">\n",
       "      <th></th>\n",
       "      <th>Date_reported</th>\n",
       "      <th>Country_code</th>\n",
       "      <th>Country</th>\n",
       "      <th>WHO_region</th>\n",
       "      <th>New_cases</th>\n",
       "      <th>Cumulative_cases</th>\n",
       "      <th>New_deaths</th>\n",
       "      <th>Cumulative_deaths</th>\n",
       "    </tr>\n",
       "  </thead>\n",
       "  <tbody>\n",
       "    <tr>\n",
       "      <th>0</th>\n",
       "      <td>2020-01-03</td>\n",
       "      <td>AF</td>\n",
       "      <td>Afghanistan</td>\n",
       "      <td>EMRO</td>\n",
       "      <td>0</td>\n",
       "      <td>0</td>\n",
       "      <td>0</td>\n",
       "      <td>0</td>\n",
       "    </tr>\n",
       "  </tbody>\n",
       "</table>\n",
       "</div>"
      ],
      "text/plain": [
       "  Date_reported Country_code      Country WHO_region  New_cases  \\\n",
       "0    2020-01-03           AF  Afghanistan       EMRO          0   \n",
       "\n",
       "   Cumulative_cases  New_deaths  Cumulative_deaths  \n",
       "0                 0           0                  0  "
      ]
     },
     "execution_count": 3,
     "metadata": {},
     "output_type": "execute_result"
    }
   ],
   "source": [
    "df.head(1)"
   ]
  },
  {
   "cell_type": "code",
   "execution_count": 4,
   "id": "7bd5b90b-42a2-4523-beeb-318a40f342eb",
   "metadata": {},
   "outputs": [
    {
     "data": {
      "text/plain": [
       "(142437, 8)"
      ]
     },
     "execution_count": 4,
     "metadata": {},
     "output_type": "execute_result"
    }
   ],
   "source": [
    "df.shape"
   ]
  },
  {
   "cell_type": "code",
   "execution_count": 5,
   "id": "6355eb08-cc41-4e7c-a187-ce67e55318dd",
   "metadata": {},
   "outputs": [],
   "source": [
    "def set_index(indices):\n",
    "    if not isinstance(df.index, pd.core.indexes.range.RangeIndex):\n",
    "        df.reset_index(inplace=True)\n",
    "        \n",
    "    df.set_index(indices, inplace=True)"
   ]
  },
  {
   "cell_type": "code",
   "execution_count": 6,
   "id": "33c97a80-5637-4443-a3d5-0d96020b9912",
   "metadata": {},
   "outputs": [],
   "source": [
    "set_index(['Country_code', 'Date_reported'])"
   ]
  },
  {
   "cell_type": "code",
   "execution_count": 7,
   "id": "3cbc47f5-48bc-4257-8445-144cef3eec31",
   "metadata": {},
   "outputs": [],
   "source": [
    "df.reset_index(inplace=True)"
   ]
  },
  {
   "cell_type": "code",
   "execution_count": 8,
   "id": "b0f8278b-7680-4354-9fb8-62329cc24b5e",
   "metadata": {},
   "outputs": [
    {
     "data": {
      "text/plain": [
       "Index(['Country_code', 'Date_reported', 'Country', 'WHO_region', 'New_cases',\n",
       "       'Cumulative_cases', 'New_deaths', 'Cumulative_deaths'],\n",
       "      dtype='object')"
      ]
     },
     "execution_count": 8,
     "metadata": {},
     "output_type": "execute_result"
    }
   ],
   "source": [
    "df.columns"
   ]
  },
  {
   "cell_type": "code",
   "execution_count": 9,
   "id": "e4cedd67-ca11-45ae-8b7d-7bf7f9ab2a7a",
   "metadata": {},
   "outputs": [
    {
     "data": {
      "text/plain": [
       "(142437, 8)"
      ]
     },
     "execution_count": 9,
     "metadata": {},
     "output_type": "execute_result"
    }
   ],
   "source": [
    "df.shape"
   ]
  },
  {
   "cell_type": "code",
   "execution_count": 10,
   "id": "b9f3429c-89d3-4fcd-a834-f09296991fd4",
   "metadata": {},
   "outputs": [
    {
     "data": {
      "text/html": [
       "<div>\n",
       "<style scoped>\n",
       "    .dataframe tbody tr th:only-of-type {\n",
       "        vertical-align: middle;\n",
       "    }\n",
       "\n",
       "    .dataframe tbody tr th {\n",
       "        vertical-align: top;\n",
       "    }\n",
       "\n",
       "    .dataframe thead th {\n",
       "        text-align: right;\n",
       "    }\n",
       "</style>\n",
       "<table border=\"1\" class=\"dataframe\">\n",
       "  <thead>\n",
       "    <tr style=\"text-align: right;\">\n",
       "      <th></th>\n",
       "      <th></th>\n",
       "      <th>Total_cases</th>\n",
       "      <th>Total_deaths</th>\n",
       "    </tr>\n",
       "    <tr>\n",
       "      <th>Country_code</th>\n",
       "      <th>Country</th>\n",
       "      <th></th>\n",
       "      <th></th>\n",
       "    </tr>\n",
       "  </thead>\n",
       "  <tbody>\n",
       "    <tr>\n",
       "      <th>US</th>\n",
       "      <th>United States of America</th>\n",
       "      <td>37816239</td>\n",
       "      <td>625046</td>\n",
       "    </tr>\n",
       "    <tr>\n",
       "      <th>IN</th>\n",
       "      <th>India</th>\n",
       "      <td>32512366</td>\n",
       "      <td>435758</td>\n",
       "    </tr>\n",
       "    <tr>\n",
       "      <th>BR</th>\n",
       "      <th>Brazil</th>\n",
       "      <td>20583994</td>\n",
       "      <td>574848</td>\n",
       "    </tr>\n",
       "    <tr>\n",
       "      <th>RU</th>\n",
       "      <th>Russian Federation</th>\n",
       "      <td>6804910</td>\n",
       "      <td>178423</td>\n",
       "    </tr>\n",
       "    <tr>\n",
       "      <th>GB</th>\n",
       "      <th>The United Kingdom</th>\n",
       "      <td>6555204</td>\n",
       "      <td>131854</td>\n",
       "    </tr>\n",
       "  </tbody>\n",
       "</table>\n",
       "</div>"
      ],
      "text/plain": [
       "                                       Total_cases  Total_deaths\n",
       "Country_code Country                                            \n",
       "US           United States of America     37816239        625046\n",
       "IN           India                        32512366        435758\n",
       "BR           Brazil                       20583994        574848\n",
       "RU           Russian Federation            6804910        178423\n",
       "GB           The United Kingdom            6555204        131854"
      ]
     },
     "execution_count": 10,
     "metadata": {},
     "output_type": "execute_result"
    }
   ],
   "source": [
    "total = df.loc[:, ['Country_code', 'Country', 'Date_reported', 'New_cases', 'New_deaths']]\n",
    "total = total.groupby(['Country_code', 'Country']).sum()\n",
    "    \n",
    "total.rename({'New_cases': 'Total_cases', 'New_deaths': 'Total_deaths'}, axis=1, inplace=True)\n",
    "total.sort_values(['Total_cases'], ascending=False, inplace=True)\n",
    "total.head()"
   ]
  },
  {
   "cell_type": "code",
   "execution_count": 11,
   "id": "ee9539d8-3a23-4a33-a084-7783800df306",
   "metadata": {},
   "outputs": [],
   "source": [
    "total.reset_index(inplace=True)\n",
    "total = total.loc[:, ['Country_code', 'Total_cases', 'Total_deaths']]"
   ]
  },
  {
   "cell_type": "code",
   "execution_count": 12,
   "id": "968b63ad-e368-4261-9c3d-15a8fe4d8d8e",
   "metadata": {},
   "outputs": [
    {
     "data": {
      "text/plain": [
       "{'us_case': 37816239, 'cn_case': 122777, 'ratio': 308.00751769468224}"
      ]
     },
     "execution_count": 12,
     "metadata": {},
     "output_type": "execute_result"
    }
   ],
   "source": [
    "cn_case = total.loc[total['Country_code']=='CN', 'Total_cases'].item()\n",
    "us_case = total.loc[total['Country_code']=='US', 'Total_cases'].item()\n",
    "\n",
    "compare = {\n",
    "    'us_case': us_case,\n",
    "    'cn_case': cn_case,\n",
    "    'ratio': us_case/cn_case \n",
    "}\n",
    "\n",
    "compare"
   ]
  },
  {
   "cell_type": "code",
   "execution_count": 13,
   "id": "266084c5-b53e-439e-8e3f-6d10443d19e7",
   "metadata": {},
   "outputs": [
    {
     "data": {
      "text/html": [
       "<div>\n",
       "<style scoped>\n",
       "    .dataframe tbody tr th:only-of-type {\n",
       "        vertical-align: middle;\n",
       "    }\n",
       "\n",
       "    .dataframe tbody tr th {\n",
       "        vertical-align: top;\n",
       "    }\n",
       "\n",
       "    .dataframe thead th {\n",
       "        text-align: right;\n",
       "    }\n",
       "</style>\n",
       "<table border=\"1\" class=\"dataframe\">\n",
       "  <thead>\n",
       "    <tr style=\"text-align: right;\">\n",
       "      <th></th>\n",
       "      <th>Country_code</th>\n",
       "      <th>Date_reported</th>\n",
       "      <th>Country</th>\n",
       "      <th>WHO_region</th>\n",
       "      <th>New_cases</th>\n",
       "      <th>Cumulative_cases</th>\n",
       "      <th>New_deaths</th>\n",
       "      <th>Cumulative_deaths</th>\n",
       "    </tr>\n",
       "  </thead>\n",
       "  <tbody>\n",
       "    <tr>\n",
       "      <th>136426</th>\n",
       "      <td>US</td>\n",
       "      <td>2021-08-25</td>\n",
       "      <td>United States of America</td>\n",
       "      <td>AMRO</td>\n",
       "      <td>227282</td>\n",
       "      <td>37816239</td>\n",
       "      <td>1146</td>\n",
       "      <td>625046</td>\n",
       "    </tr>\n",
       "    <tr>\n",
       "      <th>136425</th>\n",
       "      <td>US</td>\n",
       "      <td>2021-08-24</td>\n",
       "      <td>United States of America</td>\n",
       "      <td>AMRO</td>\n",
       "      <td>42515</td>\n",
       "      <td>37588957</td>\n",
       "      <td>160</td>\n",
       "      <td>623900</td>\n",
       "    </tr>\n",
       "    <tr>\n",
       "      <th>136424</th>\n",
       "      <td>US</td>\n",
       "      <td>2021-08-23</td>\n",
       "      <td>United States of America</td>\n",
       "      <td>AMRO</td>\n",
       "      <td>141113</td>\n",
       "      <td>37546442</td>\n",
       "      <td>1281</td>\n",
       "      <td>623740</td>\n",
       "    </tr>\n",
       "    <tr>\n",
       "      <th>136423</th>\n",
       "      <td>US</td>\n",
       "      <td>2021-08-22</td>\n",
       "      <td>United States of America</td>\n",
       "      <td>AMRO</td>\n",
       "      <td>185176</td>\n",
       "      <td>37405329</td>\n",
       "      <td>1151</td>\n",
       "      <td>622459</td>\n",
       "    </tr>\n",
       "    <tr>\n",
       "      <th>136422</th>\n",
       "      <td>US</td>\n",
       "      <td>2021-08-21</td>\n",
       "      <td>United States of America</td>\n",
       "      <td>AMRO</td>\n",
       "      <td>134939</td>\n",
       "      <td>37220153</td>\n",
       "      <td>953</td>\n",
       "      <td>621308</td>\n",
       "    </tr>\n",
       "    <tr>\n",
       "      <th>...</th>\n",
       "      <td>...</td>\n",
       "      <td>...</td>\n",
       "      <td>...</td>\n",
       "      <td>...</td>\n",
       "      <td>...</td>\n",
       "      <td>...</td>\n",
       "      <td>...</td>\n",
       "      <td>...</td>\n",
       "    </tr>\n",
       "    <tr>\n",
       "      <th>135830</th>\n",
       "      <td>US</td>\n",
       "      <td>2020-01-07</td>\n",
       "      <td>United States of America</td>\n",
       "      <td>AMRO</td>\n",
       "      <td>0</td>\n",
       "      <td>0</td>\n",
       "      <td>0</td>\n",
       "      <td>0</td>\n",
       "    </tr>\n",
       "    <tr>\n",
       "      <th>135829</th>\n",
       "      <td>US</td>\n",
       "      <td>2020-01-06</td>\n",
       "      <td>United States of America</td>\n",
       "      <td>AMRO</td>\n",
       "      <td>0</td>\n",
       "      <td>0</td>\n",
       "      <td>0</td>\n",
       "      <td>0</td>\n",
       "    </tr>\n",
       "    <tr>\n",
       "      <th>135828</th>\n",
       "      <td>US</td>\n",
       "      <td>2020-01-05</td>\n",
       "      <td>United States of America</td>\n",
       "      <td>AMRO</td>\n",
       "      <td>0</td>\n",
       "      <td>0</td>\n",
       "      <td>0</td>\n",
       "      <td>0</td>\n",
       "    </tr>\n",
       "    <tr>\n",
       "      <th>135827</th>\n",
       "      <td>US</td>\n",
       "      <td>2020-01-04</td>\n",
       "      <td>United States of America</td>\n",
       "      <td>AMRO</td>\n",
       "      <td>0</td>\n",
       "      <td>0</td>\n",
       "      <td>0</td>\n",
       "      <td>0</td>\n",
       "    </tr>\n",
       "    <tr>\n",
       "      <th>135826</th>\n",
       "      <td>US</td>\n",
       "      <td>2020-01-03</td>\n",
       "      <td>United States of America</td>\n",
       "      <td>AMRO</td>\n",
       "      <td>0</td>\n",
       "      <td>0</td>\n",
       "      <td>0</td>\n",
       "      <td>0</td>\n",
       "    </tr>\n",
       "  </tbody>\n",
       "</table>\n",
       "<p>601 rows × 8 columns</p>\n",
       "</div>"
      ],
      "text/plain": [
       "       Country_code Date_reported                   Country WHO_region  \\\n",
       "136426           US    2021-08-25  United States of America       AMRO   \n",
       "136425           US    2021-08-24  United States of America       AMRO   \n",
       "136424           US    2021-08-23  United States of America       AMRO   \n",
       "136423           US    2021-08-22  United States of America       AMRO   \n",
       "136422           US    2021-08-21  United States of America       AMRO   \n",
       "...             ...           ...                       ...        ...   \n",
       "135830           US    2020-01-07  United States of America       AMRO   \n",
       "135829           US    2020-01-06  United States of America       AMRO   \n",
       "135828           US    2020-01-05  United States of America       AMRO   \n",
       "135827           US    2020-01-04  United States of America       AMRO   \n",
       "135826           US    2020-01-03  United States of America       AMRO   \n",
       "\n",
       "        New_cases  Cumulative_cases  New_deaths  Cumulative_deaths  \n",
       "136426     227282          37816239        1146             625046  \n",
       "136425      42515          37588957         160             623900  \n",
       "136424     141113          37546442        1281             623740  \n",
       "136423     185176          37405329        1151             622459  \n",
       "136422     134939          37220153         953             621308  \n",
       "...           ...               ...         ...                ...  \n",
       "135830          0                 0           0                  0  \n",
       "135829          0                 0           0                  0  \n",
       "135828          0                 0           0                  0  \n",
       "135827          0                 0           0                  0  \n",
       "135826          0                 0           0                  0  \n",
       "\n",
       "[601 rows x 8 columns]"
      ]
     },
     "execution_count": 13,
     "metadata": {},
     "output_type": "execute_result"
    }
   ],
   "source": [
    "us = df.loc[df['Country_code'] == 'US', :]\n",
    "us = us.sort_values('Date_reported', ascending=False)\n",
    "\n",
    "us"
   ]
  },
  {
   "cell_type": "code",
   "execution_count": 14,
   "id": "eb7b77ab-f865-4110-a832-4bccb3449676",
   "metadata": {},
   "outputs": [
    {
     "data": {
      "text/plain": [
       "(142437, 8)"
      ]
     },
     "execution_count": 14,
     "metadata": {},
     "output_type": "execute_result"
    }
   ],
   "source": [
    "df.shape"
   ]
  }
 ],
 "metadata": {
  "kernelspec": {
   "display_name": "Python 3 (ipykernel)",
   "language": "python",
   "name": "python3"
  },
  "language_info": {
   "codemirror_mode": {
    "name": "ipython",
    "version": 3
   },
   "file_extension": ".py",
   "mimetype": "text/x-python",
   "name": "python",
   "nbconvert_exporter": "python",
   "pygments_lexer": "ipython3",
   "version": "3.9.5"
  }
 },
 "nbformat": 4,
 "nbformat_minor": 5
}
