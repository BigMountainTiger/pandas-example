{
 "cells": [
  {
   "cell_type": "markdown",
   "id": "78159fdf-7f94-4b40-be30-3d8608476779",
   "metadata": {},
   "source": [
    "<h1>fillna</h1>"
   ]
  },
  {
   "cell_type": "markdown",
   "id": "8bed94ca-e60a-46be-ac2e-9931f8f132d0",
   "metadata": {},
   "source": [
    "<b>Without fillna()</b>"
   ]
  },
  {
   "cell_type": "code",
   "execution_count": 1,
   "id": "191946cf-bd53-47f6-b6c7-7f1817bdf7b1",
   "metadata": {},
   "outputs": [],
   "source": [
    "import pandas as pd"
   ]
  },
  {
   "cell_type": "code",
   "execution_count": 2,
   "id": "1ddedb35-1c1d-4162-ae8b-285e9726ebc3",
   "metadata": {},
   "outputs": [
    {
     "name": "stdout",
     "output_type": "stream",
     "text": [
      "   id    name  score\n",
      "0   0    Song    100\n",
      "1   1    None     10\n",
      "2   2    None     20\n",
      "3   3  Potato     90\n",
      "\n",
      "name is None\n",
      "name is not empty\n"
     ]
    }
   ],
   "source": [
    "df = pd.DataFrame({\n",
    "    'id': [0, 1, 2, 3],\n",
    "    'name': ['Song', None, None, 'Potato'],\n",
    "    'score': [100, 10, 20, 90]\n",
    "})\n",
    "\n",
    "print(df)\n",
    "\n",
    "print()\n",
    "name = df.loc[1, 'name']\n",
    "if name is None:\n",
    "    print('name is None')\n",
    "\n",
    "if name != '':\n",
    "    print('name is not empty')"
   ]
  },
  {
   "cell_type": "markdown",
   "id": "74a2887b-fae4-40da-b176-1398c0aa3ad2",
   "metadata": {},
   "source": [
    "<b>After fillna()</b>"
   ]
  },
  {
   "cell_type": "code",
   "execution_count": 3,
   "id": "73d99b95-a84a-4c3a-8f0a-490b9f9a3709",
   "metadata": {},
   "outputs": [
    {
     "name": "stdout",
     "output_type": "stream",
     "text": [
      "   id    name  score\n",
      "0   0    Song    100\n",
      "1   1             10\n",
      "2   2             20\n",
      "3   3  Potato     90\n"
     ]
    }
   ],
   "source": [
    "df = pd.DataFrame({\n",
    "    'id': [0, 1, 2, 3],\n",
    "    'name': ['Song', None, None, 'Potato'],\n",
    "    'score': [100, 10, 20, 90]\n",
    "})\n",
    "df.fillna('', inplace=True)\n",
    "\n",
    "print(df)"
   ]
  },
  {
   "cell_type": "code",
   "execution_count": 4,
   "id": "bff5e2bf-c919-47f9-88ac-5c4eac7f6e4a",
   "metadata": {},
   "outputs": [
    {
     "name": "stdout",
     "output_type": "stream",
     "text": [
      "name is not None\n",
      "name is empty\n"
     ]
    }
   ],
   "source": [
    "name = df.loc[1, 'name']\n",
    "\n",
    "if name is not None:\n",
    "    print('name is not None')\n",
    "\n",
    "if name == '':\n",
    "    print('name is empty')"
   ]
  },
  {
   "cell_type": "markdown",
   "id": "45ac0002-fd35-4d4a-9c94-87b88eab91a5",
   "metadata": {},
   "source": [
    "<b>If a value of mismatching data type is given, an Exception is thrown</b>\n",
    "<br>\n",
    "<b>The fillna can be done on column bases to avoid type mismatches</b>"
   ]
  },
  {
   "cell_type": "code",
   "execution_count": 5,
   "id": "1637c36c-b78d-4654-9bfe-bc1dc168ddd6",
   "metadata": {},
   "outputs": [
    {
     "name": "stdout",
     "output_type": "stream",
     "text": [
      "   id          name  score\n",
      "0   0          Song  100.0\n",
      "1   1  filler-value -100.0\n",
      "2   2  filler-value   20.0\n",
      "3   3        Potato   90.0\n"
     ]
    }
   ],
   "source": [
    "df = pd.DataFrame({\n",
    "    'id': [0, 1, 2, 3],\n",
    "    'name': ['Song', None, None, 'Potato'],\n",
    "    'score': [100, None, 20, 90]\n",
    "})\n",
    "\n",
    "df[['name']] = df[['name']].fillna('filler-value')\n",
    "df[['score']] = df[['score']].fillna(-100)\n",
    "\n",
    "print(df)\n",
    "\n"
   ]
  }
 ],
 "metadata": {
  "kernelspec": {
   "display_name": "Python 3 (ipykernel)",
   "language": "python",
   "name": "python3"
  },
  "language_info": {
   "codemirror_mode": {
    "name": "ipython",
    "version": 3
   },
   "file_extension": ".py",
   "mimetype": "text/x-python",
   "name": "python",
   "nbconvert_exporter": "python",
   "pygments_lexer": "ipython3",
   "version": "3.12.3"
  }
 },
 "nbformat": 4,
 "nbformat_minor": 5
}
