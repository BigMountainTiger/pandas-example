{
 "cells": [
  {
   "cell_type": "code",
   "execution_count": 1,
   "id": "3f01d033-ab12-46d2-98d0-fd4f7febd2a5",
   "metadata": {},
   "outputs": [],
   "source": [
    "import pandas as pd"
   ]
  },
  {
   "cell_type": "code",
   "execution_count": 2,
   "id": "9ce9e542-4330-46d9-973d-eb9b2394b317",
   "metadata": {},
   "outputs": [],
   "source": [
    "D = {\n",
    "    'class': ['English', 'English', 'Math', 'Math'],\n",
    "    'student': ['Song', 'Trump', 'Song', 'Trump'],\n",
    "    'score': [100, 10, 20, 90]\n",
    "}\n",
    "df = pd.DataFrame(D)"
   ]
  },
  {
   "cell_type": "markdown",
   "id": "761fb059-8242-4760-8eb6-35c5fe1bbfc3",
   "metadata": {},
   "source": [
    "<h4>1. sample() randomly select faction of items from the dataframe</h4>\n",
    "<h4>2. If replace parameter (default = False) is True, selected item is put back to the pool, so an item can be selected multiple times</h4>\n",
    "<h4>3. Most likely replace=True should never be used</h4>\n",
    "<h4>4. If frac=1.0, it then shuffle the dataframe</h4>\n",
    "<h4>5. sample() can result in a new DataFrame with a non-sequential index, preserving the index from the original DataFrame.\n",
    "    To reset this index to a default integer-based index (0, 1, 2, ...), the reset_index(drop=True) method is used\n",
    "<ol>\n",
    "    <li>drop=True makes sure the old index is dropped, otherwise it becomes a column in the new dataframe</li>\n",
    "</ul>\n",
    "</h4>\n",
    "<h4>If the index is never used later, it is no need to reset the index</h4>"
   ]
  },
  {
   "cell_type": "code",
   "execution_count": 4,
   "id": "7dbe5444-fcbf-4116-b863-f62075b3a047",
   "metadata": {},
   "outputs": [
    {
     "data": {
      "text/html": [
       "<div>\n",
       "<style scoped>\n",
       "    .dataframe tbody tr th:only-of-type {\n",
       "        vertical-align: middle;\n",
       "    }\n",
       "\n",
       "    .dataframe tbody tr th {\n",
       "        vertical-align: top;\n",
       "    }\n",
       "\n",
       "    .dataframe thead th {\n",
       "        text-align: right;\n",
       "    }\n",
       "</style>\n",
       "<table border=\"1\" class=\"dataframe\">\n",
       "  <thead>\n",
       "    <tr style=\"text-align: right;\">\n",
       "      <th></th>\n",
       "      <th>class</th>\n",
       "      <th>student</th>\n",
       "      <th>score</th>\n",
       "    </tr>\n",
       "  </thead>\n",
       "  <tbody>\n",
       "    <tr>\n",
       "      <th>0</th>\n",
       "      <td>English</td>\n",
       "      <td>Song</td>\n",
       "      <td>100</td>\n",
       "    </tr>\n",
       "  </tbody>\n",
       "</table>\n",
       "</div>"
      ],
      "text/plain": [
       "     class student  score\n",
       "0  English    Song    100"
      ]
     },
     "execution_count": 4,
     "metadata": {},
     "output_type": "execute_result"
    }
   ],
   "source": [
    "df.sample(frac=0.3).reset_index(drop=True)"
   ]
  },
  {
   "cell_type": "code",
   "execution_count": 5,
   "id": "7fc8f11b-44ad-47f4-818b-852413857534",
   "metadata": {},
   "outputs": [
    {
     "data": {
      "text/html": [
       "<div>\n",
       "<style scoped>\n",
       "    .dataframe tbody tr th:only-of-type {\n",
       "        vertical-align: middle;\n",
       "    }\n",
       "\n",
       "    .dataframe tbody tr th {\n",
       "        vertical-align: top;\n",
       "    }\n",
       "\n",
       "    .dataframe thead th {\n",
       "        text-align: right;\n",
       "    }\n",
       "</style>\n",
       "<table border=\"1\" class=\"dataframe\">\n",
       "  <thead>\n",
       "    <tr style=\"text-align: right;\">\n",
       "      <th></th>\n",
       "      <th>class</th>\n",
       "      <th>student</th>\n",
       "      <th>score</th>\n",
       "    </tr>\n",
       "  </thead>\n",
       "  <tbody>\n",
       "    <tr>\n",
       "      <th>0</th>\n",
       "      <td>Math</td>\n",
       "      <td>Song</td>\n",
       "      <td>20</td>\n",
       "    </tr>\n",
       "    <tr>\n",
       "      <th>1</th>\n",
       "      <td>English</td>\n",
       "      <td>Trump</td>\n",
       "      <td>10</td>\n",
       "    </tr>\n",
       "    <tr>\n",
       "      <th>2</th>\n",
       "      <td>Math</td>\n",
       "      <td>Trump</td>\n",
       "      <td>90</td>\n",
       "    </tr>\n",
       "    <tr>\n",
       "      <th>3</th>\n",
       "      <td>English</td>\n",
       "      <td>Song</td>\n",
       "      <td>100</td>\n",
       "    </tr>\n",
       "  </tbody>\n",
       "</table>\n",
       "</div>"
      ],
      "text/plain": [
       "     class student  score\n",
       "0     Math    Song     20\n",
       "1  English   Trump     10\n",
       "2     Math   Trump     90\n",
       "3  English    Song    100"
      ]
     },
     "execution_count": 5,
     "metadata": {},
     "output_type": "execute_result"
    }
   ],
   "source": [
    "df.sample(frac=1.0).reset_index(drop=True)"
   ]
  }
 ],
 "metadata": {
  "kernelspec": {
   "display_name": "Python 3 (ipykernel)",
   "language": "python",
   "name": "python3"
  },
  "language_info": {
   "codemirror_mode": {
    "name": "ipython",
    "version": 3
   },
   "file_extension": ".py",
   "mimetype": "text/x-python",
   "name": "python",
   "nbconvert_exporter": "python",
   "pygments_lexer": "ipython3",
   "version": "3.12.3"
  }
 },
 "nbformat": 4,
 "nbformat_minor": 5
}
