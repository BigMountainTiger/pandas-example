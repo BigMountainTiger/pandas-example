{
 "cells": [
  {
   "cell_type": "code",
   "execution_count": 2,
   "id": "73dbf7fa-a058-4353-b909-478ba03816f9",
   "metadata": {},
   "outputs": [],
   "source": [
    "import pandas as pd\n",
    "import numpy as np\n",
    "import random\n",
    "\n",
    "D = {\n",
    "    'class': ['English', 'English', 'Math', 'Math'],\n",
    "    'student': ['Song', 'Trump', 'Song', 'Trump'],\n",
    "    'score': [100, 10, 20, 90]\n",
    "}\n",
    "df = pd.DataFrame(D)"
   ]
  },
  {
   "cell_type": "markdown",
   "id": "4357b2d1-aded-4f2f-8f39-ea9905870970",
   "metadata": {},
   "source": [
    "<h1>np.array_split can be used to split a dataframe</h1>\n",
    "\n",
    "<h4>1. np.array_split() can split roughly equal sized smaller dataframes</h4>\n",
    "<h4>2. If necessary, copy() should be used to create a copy of the sub-dataframe, \"copy()\" default bahavior is deep=True. This is because loc[] create a view, modificatons can cause confusions</h4>\n",
    "<h4>3. If the lengh of the dataframe is smaller than the no_of_chunks, \n",
    "    <b>\"empty\"</b> chunks can be created</h4>"
   ]
  },
  {
   "cell_type": "code",
   "execution_count": 3,
   "id": "02c2fa11-f3e9-4860-99e6-0e9c582b9345",
   "metadata": {},
   "outputs": [
    {
     "name": "stdout",
     "output_type": "stream",
     "text": [
      "     class student  score\n",
      "0  English    Song    100\n",
      "1  English   Trump     10\n",
      "\n",
      "  class student  score\n",
      "2  Math    Song     20\n",
      "\n",
      "  class student  score\n",
      "3  Math   Trump     90\n",
      "\n"
     ]
    }
   ],
   "source": [
    "no_of_chunks = 3\n",
    "\n",
    "dfs = []\n",
    "indices = np.array_split(df.index, no_of_chunks)\n",
    "for chunk_idx in indices:\n",
    "    if len(chunk_idx) == 0:\n",
    "        dfs.append(None)\n",
    "        continue\n",
    "\n",
    "    df_split = df.loc[chunk_idx].copy()\n",
    "    dfs.append(df_split)\n",
    "\n",
    "for df_split in dfs:\n",
    "    print(df_split); print()\n",
    "    "
   ]
  },
  {
   "cell_type": "markdown",
   "id": "062e6b39-6a29-438b-95df-cb6cfb5d2cb9",
   "metadata": {},
   "source": [
    "<h1>Empty chunks are possible if not enough rows in the original dataframe</h1>"
   ]
  },
  {
   "cell_type": "code",
   "execution_count": 10,
   "id": "05a462eb-66fe-4e23-8370-22ac3f1b76cf",
   "metadata": {},
   "outputs": [
    {
     "name": "stdout",
     "output_type": "stream",
     "text": [
      "     class student  score\n",
      "0  English    Song    100\n",
      "\n",
      "     class student  score\n",
      "1  English   Trump     10\n",
      "\n",
      "  class student  score\n",
      "2  Math    Song     20\n",
      "\n",
      "  class student  score\n",
      "3  Math   Trump     90\n",
      "\n",
      "Empty DataFrame\n",
      "Columns: [class, student, score]\n",
      "Index: []\n",
      "\n",
      "Empty DataFrame\n",
      "Columns: [class, student, score]\n",
      "Index: []\n",
      "\n"
     ]
    }
   ],
   "source": [
    "# 6 is larger than the length of the dataframe 4, so there must be 2 empty chunks\n",
    "no_of_chunks = 6\n",
    "\n",
    "dfs = []\n",
    "indices = np.array_split(df.index, no_of_chunks)\n",
    "for chunk_idx in indices:\n",
    "    df_split = df.loc[chunk_idx].copy()\n",
    "    dfs.append(df_split)\n",
    "\n",
    "for df_split in dfs:\n",
    "    print(df_split); print()"
   ]
  },
  {
   "cell_type": "markdown",
   "id": "7c318c1a-38cf-4fae-9850-5c4b6d2c710b",
   "metadata": {},
   "source": [
    "<h1>We can further shuffle the chunks using np.random.shuffle()</h1>"
   ]
  },
  {
   "cell_type": "code",
   "execution_count": 22,
   "id": "3618af8f-dd14-4187-bbd7-b24c819c60d9",
   "metadata": {},
   "outputs": [
    {
     "name": "stdout",
     "output_type": "stream",
     "text": [
      "Empty DataFrame\n",
      "Columns: [class, student, score]\n",
      "Index: []\n",
      "\n",
      "  class student  score\n",
      "3  Math   Trump     90\n",
      "\n",
      "Empty DataFrame\n",
      "Columns: [class, student, score]\n",
      "Index: []\n",
      "\n",
      "     class student  score\n",
      "1  English   Trump     10\n",
      "\n",
      "  class student  score\n",
      "2  Math    Song     20\n",
      "\n",
      "     class student  score\n",
      "0  English    Song    100\n",
      "\n"
     ]
    }
   ],
   "source": [
    "# Create a shallow copy of the list\n",
    "dfs_copy = dfs[:]\n",
    "np.random.shuffle(dfs_copy)\n",
    "\n",
    "for df_split in dfs_copy:\n",
    "    print(df_split); print()"
   ]
  },
  {
   "cell_type": "markdown",
   "id": "467fd1d2-8005-4487-8682-beb566e6c6a4",
   "metadata": {},
   "source": [
    "<h1>We can also shuffle the chunks using python's native random.shuffle()</h1>"
   ]
  },
  {
   "cell_type": "code",
   "execution_count": 21,
   "id": "31ad72fb-b616-4b63-957f-2f2836f17e26",
   "metadata": {},
   "outputs": [
    {
     "name": "stdout",
     "output_type": "stream",
     "text": [
      "Empty DataFrame\n",
      "Columns: [class, student, score]\n",
      "Index: []\n",
      "\n",
      "  class student  score\n",
      "2  Math    Song     20\n",
      "\n",
      "Empty DataFrame\n",
      "Columns: [class, student, score]\n",
      "Index: []\n",
      "\n",
      "     class student  score\n",
      "0  English    Song    100\n",
      "\n",
      "     class student  score\n",
      "1  English   Trump     10\n",
      "\n",
      "  class student  score\n",
      "3  Math   Trump     90\n",
      "\n"
     ]
    }
   ],
   "source": [
    "# Create a shallow copy of the list\n",
    "dfs_copy = dfs[:]\n",
    "random.shuffle(dfs_copy)\n",
    "\n",
    "for df_split in dfs_copy:\n",
    "    print(df_split); print()"
   ]
  }
 ],
 "metadata": {
  "kernelspec": {
   "display_name": "Python 3 (ipykernel)",
   "language": "python",
   "name": "python3"
  },
  "language_info": {
   "codemirror_mode": {
    "name": "ipython",
    "version": 3
   },
   "file_extension": ".py",
   "mimetype": "text/x-python",
   "name": "python",
   "nbconvert_exporter": "python",
   "pygments_lexer": "ipython3",
   "version": "3.12.3"
  }
 },
 "nbformat": 4,
 "nbformat_minor": 5
}
