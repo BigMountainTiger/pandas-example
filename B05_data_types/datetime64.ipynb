{
 "cells": [
  {
   "cell_type": "code",
   "execution_count": 1,
   "id": "9870cb09-150c-4776-8b7c-21b1b0a2d130",
   "metadata": {},
   "outputs": [],
   "source": [
    "import pandas as pd\n",
    "from datetime import datetime, date"
   ]
  },
  {
   "cell_type": "markdown",
   "id": "e3f93b7a-723d-4bc9-a4ce-7f97aadef524",
   "metadata": {},
   "source": [
    "<b>Pandas aware of the timezone</b>\n",
    "<br>\n",
    "<b>But if tz parameter is not provided, no tz information is not included in the timestamp</b>"
   ]
  },
  {
   "cell_type": "code",
   "execution_count": 2,
   "id": "d94b9e80-fc5f-4db5-bb5a-a129673fca61",
   "metadata": {},
   "outputs": [
    {
     "name": "stdout",
     "output_type": "stream",
     "text": [
      "2025-10-30 01:44:31.769171+00:00\n",
      "2025-10-29 21:44:31.779441\n"
     ]
    }
   ],
   "source": [
    "print(pd.Timestamp.now(tz='UTC'))\n",
    "print(pd.Timestamp.now())"
   ]
  },
  {
   "cell_type": "markdown",
   "id": "5d814563-ee58-4e1b-8a09-49849b0b3b37",
   "metadata": {},
   "source": [
    "<b>Example to create a datetime64 column</b>\n",
    "<br>\n",
    "<b>It may be better to explicitly specify the timezone, such as utc on both the column and the data (the value of the now variable)</b>"
   ]
  },
  {
   "cell_type": "code",
   "execution_count": 3,
   "id": "3d452bf5-c1f6-4e4f-83b5-d022fc435382",
   "metadata": {},
   "outputs": [
    {
     "name": "stdout",
     "output_type": "stream",
     "text": [
      "   id                         time_now                          time_na\n",
      "0   1 2025-10-30 01:44:37.218048+00:00 2025-10-30 01:44:37.218048+00:00\n",
      "1   2 2025-10-30 01:44:37.218048+00:00                              NaT\n",
      "\n",
      "Information of the dataframe----------------------------\n",
      "<class 'pandas.core.frame.DataFrame'>\n",
      "RangeIndex: 2 entries, 0 to 1\n",
      "Data columns (total 3 columns):\n",
      " #   Column    Non-Null Count  Dtype              \n",
      "---  ------    --------------  -----              \n",
      " 0   id        2 non-null      int64              \n",
      " 1   time_now  2 non-null      datetime64[us, UTC]\n",
      " 2   time_na   1 non-null      datetime64[ns, UTC]\n",
      "dtypes: datetime64[ns, UTC](1), datetime64[us, UTC](1), int64(1)\n",
      "memory usage: 180.0 bytes\n"
     ]
    }
   ],
   "source": [
    "now = pd.Timestamp.now(tz='UTC')\n",
    "\n",
    "D = { 'id': [1, 2] }\n",
    "df = pd.DataFrame(D)\n",
    "df['time_now'] = now\n",
    "df['time_now'] = pd.to_datetime(df['time_now'], utc=True)\n",
    "df['time_na'] = pd.NaT\n",
    "df['time_na'] = pd.to_datetime(df['time_na'], utc=True)\n",
    "\n",
    "# Assign a value\n",
    "df.loc[df['id'] == 1, ['time_na']] = now\n",
    "\n",
    "print(df)\n",
    "print('\\nInformation of the dataframe----------------------------')\n",
    "df.info()"
   ]
  },
  {
   "cell_type": "markdown",
   "id": "fdd43f4f-5dbe-443a-90bc-238c472c4cfa",
   "metadata": {},
   "source": [
    "<h1>datetime convert to date</h1>"
   ]
  },
  {
   "cell_type": "code",
   "execution_count": 29,
   "id": "0fbe94a2-aebf-462c-8037-4e258b1e26f1",
   "metadata": {},
   "outputs": [
    {
     "name": "stdout",
     "output_type": "stream",
     "text": [
      "<class 'pandas.core.frame.DataFrame'>\n",
      "RangeIndex: 2 entries, 0 to 1\n",
      "Data columns (total 2 columns):\n",
      " #   Column  Non-Null Count  Dtype         \n",
      "---  ------  --------------  -----         \n",
      " 0   name    2 non-null      object        \n",
      " 1   value   1 non-null      datetime64[ns]\n",
      "dtypes: datetime64[ns](1), object(1)\n",
      "memory usage: 164.0+ bytes\n"
     ]
    },
    {
     "data": {
      "text/html": [
       "<div>\n",
       "<style scoped>\n",
       "    .dataframe tbody tr th:only-of-type {\n",
       "        vertical-align: middle;\n",
       "    }\n",
       "\n",
       "    .dataframe tbody tr th {\n",
       "        vertical-align: top;\n",
       "    }\n",
       "\n",
       "    .dataframe thead th {\n",
       "        text-align: right;\n",
       "    }\n",
       "</style>\n",
       "<table border=\"1\" class=\"dataframe\">\n",
       "  <thead>\n",
       "    <tr style=\"text-align: right;\">\n",
       "      <th></th>\n",
       "      <th>name</th>\n",
       "      <th>value</th>\n",
       "    </tr>\n",
       "  </thead>\n",
       "  <tbody>\n",
       "    <tr>\n",
       "      <th>0</th>\n",
       "      <td>yesterday</td>\n",
       "      <td>NaT</td>\n",
       "    </tr>\n",
       "    <tr>\n",
       "      <th>1</th>\n",
       "      <td>today</td>\n",
       "      <td>2025-10-29 21:58:27.443301</td>\n",
       "    </tr>\n",
       "  </tbody>\n",
       "</table>\n",
       "</div>"
      ],
      "text/plain": [
       "        name                      value\n",
       "0  yesterday                        NaT\n",
       "1      today 2025-10-29 21:58:27.443301"
      ]
     },
     "execution_count": 29,
     "metadata": {},
     "output_type": "execute_result"
    }
   ],
   "source": [
    "df = pd.DataFrame({\n",
    "    'name': ['yesterday', 'today'],\n",
    "    'value': [None, datetime.now()]\n",
    "})\n",
    "\n",
    "df.info()\n",
    "df"
   ]
  },
  {
   "cell_type": "code",
   "execution_count": 30,
   "id": "83c6ce7f-2b8a-414f-9b7e-245cb55c0504",
   "metadata": {},
   "outputs": [
    {
     "name": "stdout",
     "output_type": "stream",
     "text": [
      "<class 'pandas.core.frame.DataFrame'>\n",
      "RangeIndex: 2 entries, 0 to 1\n",
      "Data columns (total 2 columns):\n",
      " #   Column  Non-Null Count  Dtype \n",
      "---  ------  --------------  ----- \n",
      " 0   name    2 non-null      string\n",
      " 1   value   1 non-null      object\n",
      "dtypes: object(1), string(1)\n",
      "memory usage: 164.0+ bytes\n"
     ]
    },
    {
     "data": {
      "text/html": [
       "<div>\n",
       "<style scoped>\n",
       "    .dataframe tbody tr th:only-of-type {\n",
       "        vertical-align: middle;\n",
       "    }\n",
       "\n",
       "    .dataframe tbody tr th {\n",
       "        vertical-align: top;\n",
       "    }\n",
       "\n",
       "    .dataframe thead th {\n",
       "        text-align: right;\n",
       "    }\n",
       "</style>\n",
       "<table border=\"1\" class=\"dataframe\">\n",
       "  <thead>\n",
       "    <tr style=\"text-align: right;\">\n",
       "      <th></th>\n",
       "      <th>name</th>\n",
       "      <th>value</th>\n",
       "    </tr>\n",
       "  </thead>\n",
       "  <tbody>\n",
       "    <tr>\n",
       "      <th>0</th>\n",
       "      <td>yesterday</td>\n",
       "      <td>NaT</td>\n",
       "    </tr>\n",
       "    <tr>\n",
       "      <th>1</th>\n",
       "      <td>today</td>\n",
       "      <td>2025-10-29</td>\n",
       "    </tr>\n",
       "  </tbody>\n",
       "</table>\n",
       "</div>"
      ],
      "text/plain": [
       "        name       value\n",
       "0  yesterday         NaT\n",
       "1      today  2025-10-29"
      ]
     },
     "execution_count": 30,
     "metadata": {},
     "output_type": "execute_result"
    }
   ],
   "source": [
    "# This can be done on the df once\n",
    "# After that the df['value'] becomes date, it no longer has the dt.date property\n",
    "\n",
    "df['value'] = df['value'].dt.date\n",
    "df = df.convert_dtypes()\n",
    "df.info()\n",
    "df"
   ]
  },
  {
   "cell_type": "code",
   "execution_count": 34,
   "id": "9853c4e6-1eff-48ef-9504-f75a166223ed",
   "metadata": {},
   "outputs": [
    {
     "data": {
      "text/html": [
       "<div>\n",
       "<style scoped>\n",
       "    .dataframe tbody tr th:only-of-type {\n",
       "        vertical-align: middle;\n",
       "    }\n",
       "\n",
       "    .dataframe tbody tr th {\n",
       "        vertical-align: top;\n",
       "    }\n",
       "\n",
       "    .dataframe thead th {\n",
       "        text-align: right;\n",
       "    }\n",
       "</style>\n",
       "<table border=\"1\" class=\"dataframe\">\n",
       "  <thead>\n",
       "    <tr style=\"text-align: right;\">\n",
       "      <th></th>\n",
       "      <th>name</th>\n",
       "      <th>value</th>\n",
       "    </tr>\n",
       "  </thead>\n",
       "  <tbody>\n",
       "    <tr>\n",
       "      <th>1</th>\n",
       "      <td>today</td>\n",
       "      <td>2025-10-29</td>\n",
       "    </tr>\n",
       "  </tbody>\n",
       "</table>\n",
       "</div>"
      ],
      "text/plain": [
       "    name       value\n",
       "1  today  2025-10-29"
      ]
     },
     "execution_count": 34,
     "metadata": {},
     "output_type": "execute_result"
    }
   ],
   "source": [
    "df.loc[(~df['value'].isnull()) & (df['value'] >= date.today())]"
   ]
  },
  {
   "cell_type": "code",
   "execution_count": 37,
   "id": "7ec044ff-207f-4205-9382-a7d3f9b9fcef",
   "metadata": {},
   "outputs": [
    {
     "data": {
      "text/html": [
       "<div>\n",
       "<style scoped>\n",
       "    .dataframe tbody tr th:only-of-type {\n",
       "        vertical-align: middle;\n",
       "    }\n",
       "\n",
       "    .dataframe tbody tr th {\n",
       "        vertical-align: top;\n",
       "    }\n",
       "\n",
       "    .dataframe thead th {\n",
       "        text-align: right;\n",
       "    }\n",
       "</style>\n",
       "<table border=\"1\" class=\"dataframe\">\n",
       "  <thead>\n",
       "    <tr style=\"text-align: right;\">\n",
       "      <th></th>\n",
       "      <th>name</th>\n",
       "      <th>value</th>\n",
       "    </tr>\n",
       "  </thead>\n",
       "  <tbody>\n",
       "    <tr>\n",
       "      <th>0</th>\n",
       "      <td>yesterday</td>\n",
       "      <td>NaT</td>\n",
       "    </tr>\n",
       "  </tbody>\n",
       "</table>\n",
       "</div>"
      ],
      "text/plain": [
       "        name value\n",
       "0  yesterday   NaT"
      ]
     },
     "execution_count": 37,
     "metadata": {},
     "output_type": "execute_result"
    }
   ],
   "source": [
    "df.loc[(df['value'].isnull()) | (df['value'] > date.today())]"
   ]
  },
  {
   "cell_type": "markdown",
   "id": "18a03b42-7e76-4401-b272-a86f5b77b7b9",
   "metadata": {},
   "source": [
    "<h1>We can repalce pd.NaT to None</h1>"
   ]
  },
  {
   "cell_type": "code",
   "execution_count": 39,
   "id": "f1b515d1-4262-4bd3-b6e4-9f87a1f06c1a",
   "metadata": {},
   "outputs": [
    {
     "data": {
      "text/html": [
       "<div>\n",
       "<style scoped>\n",
       "    .dataframe tbody tr th:only-of-type {\n",
       "        vertical-align: middle;\n",
       "    }\n",
       "\n",
       "    .dataframe tbody tr th {\n",
       "        vertical-align: top;\n",
       "    }\n",
       "\n",
       "    .dataframe thead th {\n",
       "        text-align: right;\n",
       "    }\n",
       "</style>\n",
       "<table border=\"1\" class=\"dataframe\">\n",
       "  <thead>\n",
       "    <tr style=\"text-align: right;\">\n",
       "      <th></th>\n",
       "      <th>name</th>\n",
       "      <th>value</th>\n",
       "    </tr>\n",
       "  </thead>\n",
       "  <tbody>\n",
       "    <tr>\n",
       "      <th>0</th>\n",
       "      <td>yesterday</td>\n",
       "      <td>None</td>\n",
       "    </tr>\n",
       "    <tr>\n",
       "      <th>1</th>\n",
       "      <td>today</td>\n",
       "      <td>2025-10-29</td>\n",
       "    </tr>\n",
       "  </tbody>\n",
       "</table>\n",
       "</div>"
      ],
      "text/plain": [
       "        name       value\n",
       "0  yesterday        None\n",
       "1      today  2025-10-29"
      ]
     },
     "execution_count": 39,
     "metadata": {},
     "output_type": "execute_result"
    }
   ],
   "source": [
    "df = df.replace(pd.NaT, None)\n",
    "df"
   ]
  }
 ],
 "metadata": {
  "kernelspec": {
   "display_name": "Python 3 (ipykernel)",
   "language": "python",
   "name": "python3"
  },
  "language_info": {
   "codemirror_mode": {
    "name": "ipython",
    "version": 3
   },
   "file_extension": ".py",
   "mimetype": "text/x-python",
   "name": "python",
   "nbconvert_exporter": "python",
   "pygments_lexer": "ipython3",
   "version": "3.12.3"
  }
 },
 "nbformat": 4,
 "nbformat_minor": 5
}
