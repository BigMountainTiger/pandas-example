{
 "cells": [
  {
   "cell_type": "code",
   "execution_count": 1,
   "id": "f78c789d-dd87-4b08-af52-69df60590b6a",
   "metadata": {},
   "outputs": [],
   "source": [
    "import pandas as pd"
   ]
  },
  {
   "cell_type": "markdown",
   "id": "e70ea42f-77c1-4935-903f-9c0aa3182ea9",
   "metadata": {},
   "source": [
    "<h1>A dataframe column has None and duplicates</h1>"
   ]
  },
  {
   "cell_type": "code",
   "execution_count": 339,
   "id": "6373d097-06e3-4cc4-8b62-a17295130e0c",
   "metadata": {},
   "outputs": [],
   "source": [
    "df = pd.DataFrame({\n",
    "    'id': [0, 0, 0, None, None, None, 1, 1, 1, 2, 2, 2, 2]\n",
    "}).convert_dtypes()"
   ]
  },
  {
   "cell_type": "markdown",
   "id": "b1a836d0-a98c-4a53-96e8-eb8eab89ff85",
   "metadata": {},
   "source": [
    "<h1>The unique() returns an IntegerArray</h1>"
   ]
  },
  {
   "cell_type": "code",
   "execution_count": 342,
   "id": "1ce6a9da-9205-4248-87cf-a79833a1ac69",
   "metadata": {},
   "outputs": [
    {
     "name": "stdout",
     "output_type": "stream",
     "text": [
      "<IntegerArray>\n",
      "[0, 1, 2]\n",
      "Length: 3, dtype: Int64\n",
      "\n",
      "0 - type <class 'numpy.int64'>\n",
      "1 - type <class 'numpy.int64'>\n",
      "2 - type <class 'numpy.int64'>\n"
     ]
    }
   ],
   "source": [
    "arr = df['id'].copy().dropna().unique()\n",
    "print(arr)\n",
    "\n",
    "print()\n",
    "for i in arr:\n",
    "    print(f'{i} - type {type(i)}')"
   ]
  },
  {
   "cell_type": "markdown",
   "id": "cb05c043-7f5f-4fef-ae87-48d9a4f1bc0c",
   "metadata": {},
   "source": [
    "<h1>It can be converted to list, but mostly not necessary</h1>"
   ]
  },
  {
   "cell_type": "code",
   "execution_count": 337,
   "id": "87c1cd1c-124d-4191-b9a9-b10fbcdf33d2",
   "metadata": {},
   "outputs": [
    {
     "data": {
      "text/plain": [
       "[np.int64(0), np.int64(1), np.int64(2)]"
      ]
     },
     "execution_count": 337,
     "metadata": {},
     "output_type": "execute_result"
    }
   ],
   "source": [
    "list(arr)"
   ]
  },
  {
   "cell_type": "code",
   "execution_count": 338,
   "id": "beeb950b-977c-4805-aafb-fad8388bc35a",
   "metadata": {},
   "outputs": [
    {
     "data": {
      "text/plain": [
       "[0, 1, 2]"
      ]
     },
     "execution_count": 338,
     "metadata": {},
     "output_type": "execute_result"
    }
   ],
   "source": [
    "pd.Series(arr).to_list()"
   ]
  },
  {
   "cell_type": "markdown",
   "id": "def321d3-7ac1-46da-80fb-40d25353978e",
   "metadata": {},
   "source": [
    "<h1>How about strings</h1>"
   ]
  },
  {
   "cell_type": "code",
   "execution_count": 343,
   "id": "b6f41812-6190-423c-b4d5-b4acb1da9fb5",
   "metadata": {},
   "outputs": [],
   "source": [
    "df = pd.DataFrame({\n",
    "    'id': ['aa', 'aa', 'aa', None, None, None, 'bb', 'bb', 'bb', 'cc', 'cc', 'cc', 'cc']\n",
    "}).convert_dtypes()"
   ]
  },
  {
   "cell_type": "code",
   "execution_count": 344,
   "id": "9a81e3e0-3b7a-4ff6-b6ad-41c15c8770b7",
   "metadata": {},
   "outputs": [
    {
     "name": "stdout",
     "output_type": "stream",
     "text": [
      "<StringArray>\n",
      "['aa', 'bb', 'cc']\n",
      "Length: 3, dtype: string\n",
      "\n",
      "aa - type <class 'str'>\n",
      "bb - type <class 'str'>\n",
      "cc - type <class 'str'>\n"
     ]
    }
   ],
   "source": [
    "arr = df['id'].copy().dropna().unique()\n",
    "print(arr)\n",
    "\n",
    "print()\n",
    "for i in arr:\n",
    "    print(f'{i} - type {type(i)}')"
   ]
  },
  {
   "cell_type": "code",
   "execution_count": 345,
   "id": "eca469d2-58f3-4a2c-9ee1-d6bd9fd365fe",
   "metadata": {},
   "outputs": [
    {
     "data": {
      "text/plain": [
       "['aa', 'bb', 'cc']"
      ]
     },
     "execution_count": 345,
     "metadata": {},
     "output_type": "execute_result"
    }
   ],
   "source": [
    "list(arr)"
   ]
  }
 ],
 "metadata": {
  "kernelspec": {
   "display_name": "Python 3 (ipykernel)",
   "language": "python",
   "name": "python3"
  },
  "language_info": {
   "codemirror_mode": {
    "name": "ipython",
    "version": 3
   },
   "file_extension": ".py",
   "mimetype": "text/x-python",
   "name": "python",
   "nbconvert_exporter": "python",
   "pygments_lexer": "ipython3",
   "version": "3.12.3"
  }
 },
 "nbformat": 4,
 "nbformat_minor": 5
}
