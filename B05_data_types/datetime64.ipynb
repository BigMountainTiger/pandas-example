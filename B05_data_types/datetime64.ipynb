{
 "cells": [
  {
   "cell_type": "code",
   "execution_count": 1,
   "id": "9870cb09-150c-4776-8b7c-21b1b0a2d130",
   "metadata": {},
   "outputs": [],
   "source": [
    "import pandas as pd"
   ]
  },
  {
   "cell_type": "markdown",
   "id": "e3f93b7a-723d-4bc9-a4ce-7f97aadef524",
   "metadata": {},
   "source": [
    "<b>Pandas aware of the timezone</b>\n",
    "<br>\n",
    "<b>But if tz parameter is not provided, no tz information is not included in the timestamp</b>"
   ]
  },
  {
   "cell_type": "code",
   "execution_count": 2,
   "id": "d94b9e80-fc5f-4db5-bb5a-a129673fca61",
   "metadata": {},
   "outputs": [
    {
     "name": "stdout",
     "output_type": "stream",
     "text": [
      "2025-03-09 02:23:03.992206+00:00\n",
      "2025-03-08 21:23:03.992572\n"
     ]
    }
   ],
   "source": [
    "print(pd.Timestamp.now(tz='UTC'))\n",
    "print(pd.Timestamp.now())"
   ]
  },
  {
   "cell_type": "markdown",
   "id": "5d814563-ee58-4e1b-8a09-49849b0b3b37",
   "metadata": {},
   "source": [
    "<b>Example to create a datetime64 column</b>\n",
    "<br>\n",
    "<b>It may be better to explicitly specify the timezone, such as utc on both the column and the data (the value of the now variable)</b>"
   ]
  },
  {
   "cell_type": "code",
   "execution_count": 3,
   "id": "3d452bf5-c1f6-4e4f-83b5-d022fc435382",
   "metadata": {},
   "outputs": [
    {
     "name": "stdout",
     "output_type": "stream",
     "text": [
      "   id                         time_now                          time_na\n",
      "0   1 2025-03-09 02:23:04.025855+00:00 2025-03-09 02:23:04.025855+00:00\n",
      "1   2 2025-03-09 02:23:04.025855+00:00                              NaT\n",
      "\n",
      "Information of the dataframe----------------------------\n",
      "<class 'pandas.core.frame.DataFrame'>\n",
      "RangeIndex: 2 entries, 0 to 1\n",
      "Data columns (total 3 columns):\n",
      " #   Column    Non-Null Count  Dtype              \n",
      "---  ------    --------------  -----              \n",
      " 0   id        2 non-null      int64              \n",
      " 1   time_now  2 non-null      datetime64[us, UTC]\n",
      " 2   time_na   1 non-null      datetime64[ns, UTC]\n",
      "dtypes: datetime64[ns, UTC](1), datetime64[us, UTC](1), int64(1)\n",
      "memory usage: 180.0 bytes\n"
     ]
    }
   ],
   "source": [
    "now = pd.Timestamp.now(tz='UTC')\n",
    "\n",
    "D = { 'id': [1, 2] }\n",
    "df = pd.DataFrame(D)\n",
    "df['time_now'] = now\n",
    "df['time_now'] = pd.to_datetime(df['time_now'], utc=True)\n",
    "df['time_na'] = pd.NaT\n",
    "df['time_na'] = pd.to_datetime(df['time_na'], utc=True)\n",
    "\n",
    "# Assign a value\n",
    "df.loc[df['id'] == 1, ['time_na']] = now\n",
    "\n",
    "print(df)\n",
    "print('\\nInformation of the dataframe----------------------------')\n",
    "df.info()"
   ]
  }
 ],
 "metadata": {
  "kernelspec": {
   "display_name": "Python 3 (ipykernel)",
   "language": "python",
   "name": "python3"
  },
  "language_info": {
   "codemirror_mode": {
    "name": "ipython",
    "version": 3
   },
   "file_extension": ".py",
   "mimetype": "text/x-python",
   "name": "python",
   "nbconvert_exporter": "python",
   "pygments_lexer": "ipython3",
   "version": "3.12.3"
  }
 },
 "nbformat": 4,
 "nbformat_minor": 5
}
