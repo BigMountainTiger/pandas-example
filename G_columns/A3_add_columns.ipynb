{
 "cells": [
  {
   "cell_type": "code",
   "execution_count": 10,
   "id": "00cf908c-b8f3-40cc-a0f7-10750a9e9903",
   "metadata": {},
   "outputs": [],
   "source": [
    "from datetime import datetime\n",
    "import pandas as pd"
   ]
  },
  {
   "cell_type": "markdown",
   "id": "8dba2365-a3b1-4265-be9a-aa4df89437be",
   "metadata": {},
   "source": [
    "<h1>The dataframe</h1>"
   ]
  },
  {
   "cell_type": "code",
   "execution_count": 11,
   "id": "5fd88df1-5568-43e2-adc3-a3b58b0fc28d",
   "metadata": {},
   "outputs": [
    {
     "data": {
      "text/html": [
       "<div>\n",
       "<style scoped>\n",
       "    .dataframe tbody tr th:only-of-type {\n",
       "        vertical-align: middle;\n",
       "    }\n",
       "\n",
       "    .dataframe tbody tr th {\n",
       "        vertical-align: top;\n",
       "    }\n",
       "\n",
       "    .dataframe thead th {\n",
       "        text-align: right;\n",
       "    }\n",
       "</style>\n",
       "<table border=\"1\" class=\"dataframe\">\n",
       "  <thead>\n",
       "    <tr style=\"text-align: right;\">\n",
       "      <th></th>\n",
       "      <th>id</th>\n",
       "      <th>name</th>\n",
       "      <th>score</th>\n",
       "    </tr>\n",
       "  </thead>\n",
       "  <tbody>\n",
       "    <tr>\n",
       "      <th>0</th>\n",
       "      <td>1</td>\n",
       "      <td>Song</td>\n",
       "      <td>100</td>\n",
       "    </tr>\n",
       "    <tr>\n",
       "      <th>1</th>\n",
       "      <td>2</td>\n",
       "      <td>Biden</td>\n",
       "      <td>20</td>\n",
       "    </tr>\n",
       "    <tr>\n",
       "      <th>2</th>\n",
       "      <td>3</td>\n",
       "      <td>Trump</td>\n",
       "      <td>90</td>\n",
       "    </tr>\n",
       "  </tbody>\n",
       "</table>\n",
       "</div>"
      ],
      "text/plain": [
       "   id   name  score\n",
       "0   1   Song    100\n",
       "1   2  Biden     20\n",
       "2   3  Trump     90"
      ]
     },
     "execution_count": 11,
     "metadata": {},
     "output_type": "execute_result"
    }
   ],
   "source": [
    "student = pd.DataFrame({\n",
    "    'id': [1, 2, 3],\n",
    "    'name': ['Song', 'Biden', 'Trump'],\n",
    "    'score': [100, 20, 90]\n",
    "})\n",
    "\n",
    "student"
   ]
  },
  {
   "cell_type": "markdown",
   "id": "124110ff-5296-44ab-b016-4a625c9b7c5b",
   "metadata": {},
   "source": [
    "<h1>Add columns</h1>"
   ]
  },
  {
   "cell_type": "code",
   "execution_count": 12,
   "id": "40bd2ec1-7b27-4baf-8744-3ac69247ea17",
   "metadata": {},
   "outputs": [
    {
     "data": {
      "text/html": [
       "<div>\n",
       "<style scoped>\n",
       "    .dataframe tbody tr th:only-of-type {\n",
       "        vertical-align: middle;\n",
       "    }\n",
       "\n",
       "    .dataframe tbody tr th {\n",
       "        vertical-align: top;\n",
       "    }\n",
       "\n",
       "    .dataframe thead th {\n",
       "        text-align: right;\n",
       "    }\n",
       "</style>\n",
       "<table border=\"1\" class=\"dataframe\">\n",
       "  <thead>\n",
       "    <tr style=\"text-align: right;\">\n",
       "      <th></th>\n",
       "      <th>id</th>\n",
       "      <th>name</th>\n",
       "      <th>score</th>\n",
       "      <th>double_score</th>\n",
       "      <th>nick_name</th>\n",
       "      <th>enrollment</th>\n",
       "    </tr>\n",
       "  </thead>\n",
       "  <tbody>\n",
       "    <tr>\n",
       "      <th>0</th>\n",
       "      <td>1</td>\n",
       "      <td>Song</td>\n",
       "      <td>100</td>\n",
       "      <td>200</td>\n",
       "      <td>None</td>\n",
       "      <td>2025-07-28 17:36:17.865982</td>\n",
       "    </tr>\n",
       "    <tr>\n",
       "      <th>1</th>\n",
       "      <td>2</td>\n",
       "      <td>Biden</td>\n",
       "      <td>20</td>\n",
       "      <td>40</td>\n",
       "      <td>None</td>\n",
       "      <td>2025-07-28 17:36:17.865982</td>\n",
       "    </tr>\n",
       "    <tr>\n",
       "      <th>2</th>\n",
       "      <td>3</td>\n",
       "      <td>Trump</td>\n",
       "      <td>90</td>\n",
       "      <td>180</td>\n",
       "      <td>None</td>\n",
       "      <td>2025-07-28 17:36:17.865982</td>\n",
       "    </tr>\n",
       "  </tbody>\n",
       "</table>\n",
       "</div>"
      ],
      "text/plain": [
       "   id   name  score  double_score nick_name                 enrollment\n",
       "0   1   Song    100           200      None 2025-07-28 17:36:17.865982\n",
       "1   2  Biden     20            40      None 2025-07-28 17:36:17.865982\n",
       "2   3  Trump     90           180      None 2025-07-28 17:36:17.865982"
      ]
     },
     "execution_count": 12,
     "metadata": {},
     "output_type": "execute_result"
    }
   ],
   "source": [
    "now = datetime.now()\n",
    "\n",
    "student['double_score'] = 2 * student['score']\n",
    "student['nick_name'] = None\n",
    "student['enrollment'] = now\n",
    "student"
   ]
  }
 ],
 "metadata": {
  "kernelspec": {
   "display_name": "Python 3 (ipykernel)",
   "language": "python",
   "name": "python3"
  },
  "language_info": {
   "codemirror_mode": {
    "name": "ipython",
    "version": 3
   },
   "file_extension": ".py",
   "mimetype": "text/x-python",
   "name": "python",
   "nbconvert_exporter": "python",
   "pygments_lexer": "ipython3",
   "version": "3.12.3"
  }
 },
 "nbformat": 4,
 "nbformat_minor": 5
}
