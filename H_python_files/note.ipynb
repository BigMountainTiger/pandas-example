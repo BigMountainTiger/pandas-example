{
 "cells": [
  {
   "cell_type": "markdown",
   "id": "caa145c5-cef0-42fd-8360-4b5e6aa410d3",
   "metadata": {},
   "source": [
    "<b>sys.path - module search path</b>"
   ]
  },
  {
   "cell_type": "code",
   "execution_count": 1,
   "id": "bc01dc79-1013-495e-a856-528aa9e21269",
   "metadata": {},
   "outputs": [
    {
     "name": "stdout",
     "output_type": "stream",
     "text": [
      "/home/song/Sandbox/pandas-example/F_python_files\n",
      "/usr/lib/python312.zip\n",
      "/usr/lib/python3.12\n",
      "/usr/lib/python3.12/lib-dynload\n",
      "\n",
      "/home/song/Sandbox/pandas-example/.env-3.12/lib/python3.12/site-packages\n"
     ]
    }
   ],
   "source": [
    "import sys\n",
    "\n",
    "for path in sys.path:\n",
    "    print(path)"
   ]
  },
  {
   "cell_type": "markdown",
   "id": "8b1a7f32-cd93-4389-8b2c-fb27ff95f7f8",
   "metadata": {},
   "source": [
    "<b>import from the directory where the notebook is located</b>"
   ]
  },
  {
   "cell_type": "code",
   "execution_count": 2,
   "id": "f1e7d9c5-7d62-42de-81c2-a82318e1ef6a",
   "metadata": {},
   "outputs": [
    {
     "name": "stdout",
     "output_type": "stream",
     "text": [
      "OK OK OK...\n"
     ]
    }
   ],
   "source": [
    "import example_python\n",
    "\n",
    "example_python.say_somthing()"
   ]
  }
 ],
 "metadata": {
  "kernelspec": {
   "display_name": "Python 3 (ipykernel)",
   "language": "python",
   "name": "python3"
  },
  "language_info": {
   "codemirror_mode": {
    "name": "ipython",
    "version": 3
   },
   "file_extension": ".py",
   "mimetype": "text/x-python",
   "name": "python",
   "nbconvert_exporter": "python",
   "pygments_lexer": "ipython3",
   "version": "3.12.3"
  }
 },
 "nbformat": 4,
 "nbformat_minor": 5
}
