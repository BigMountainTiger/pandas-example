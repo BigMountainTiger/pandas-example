{
 "cells": [
  {
   "cell_type": "code",
   "execution_count": 1,
   "id": "4b5c3f50-d984-4028-acde-ebe22195b181",
   "metadata": {},
   "outputs": [
    {
     "data": {
      "text/plain": [
       "True"
      ]
     },
     "execution_count": 1,
     "metadata": {},
     "output_type": "execute_result"
    }
   ],
   "source": [
    "import os\n",
    "import pyodbc\n",
    "import pandas as pd\n",
    "\n",
    "from dotenv import load_dotenv\n",
    "load_dotenv()"
   ]
  },
  {
   "cell_type": "code",
   "execution_count": 2,
   "id": "d11724aa-c653-403e-9322-64cba1018ef2",
   "metadata": {},
   "outputs": [],
   "source": [
    "# https://pypi.org/project/python-dotenv/\n",
    "\n",
    "server = os.environ['server']\n",
    "database = os.environ['database']\n",
    "username = os.environ['username']\n",
    "password = os.environ['password']"
   ]
  },
  {
   "cell_type": "code",
   "execution_count": 7,
   "id": "ebc4caa6-37b9-455e-935b-8b29c6d818d9",
   "metadata": {},
   "outputs": [
    {
     "data": {
      "text/html": [
       "<div>\n",
       "<style scoped>\n",
       "    .dataframe tbody tr th:only-of-type {\n",
       "        vertical-align: middle;\n",
       "    }\n",
       "\n",
       "    .dataframe tbody tr th {\n",
       "        vertical-align: top;\n",
       "    }\n",
       "\n",
       "    .dataframe thead th {\n",
       "        text-align: right;\n",
       "    }\n",
       "</style>\n",
       "<table border=\"1\" class=\"dataframe\">\n",
       "  <thead>\n",
       "    <tr style=\"text-align: right;\">\n",
       "      <th></th>\n",
       "      <th>Version</th>\n",
       "    </tr>\n",
       "  </thead>\n",
       "  <tbody>\n",
       "    <tr>\n",
       "      <th>0</th>\n",
       "      <td>Microsoft SQL Server 2019 (RTM) - 15.0.2000.5 ...</td>\n",
       "    </tr>\n",
       "  </tbody>\n",
       "</table>\n",
       "</div>"
      ],
      "text/plain": [
       "                                             Version\n",
       "0  Microsoft SQL Server 2019 (RTM) - 15.0.2000.5 ..."
      ]
     },
     "execution_count": 7,
     "metadata": {},
     "output_type": "execute_result"
    }
   ],
   "source": [
    "# DB connection - pyodbc\n",
    "# On Ubuntu - need to manually install \"unixodbc-dev\" and \"python3.9-dev\" (The version of python used)\n",
    "\n",
    "# apt-get update\n",
    "# apt-get install unixodbc-dev\n",
    "# apt-get install python3.9-dev\n",
    "\n",
    "# SQL Server Driver - Need to install maually - \"ODBC Driver 17 for SQL Server\" on linux\n",
    "# https://docs.microsoft.com/en-us/sql/connect/odbc/linux-mac/installing-the-microsoft-odbc-driver-for-sql-server?view=sql-server-2017\n",
    "\n",
    "# Install pyodbc\n",
    "# pip install pyodbc\n",
    "\n",
    "# https://stackoverflow.com/questions/3783238/python-database-connection-close\n",
    "# https://pandas.pydata.org/docs/reference/api/pandas.read_sql.html\n",
    "try:\n",
    "    con = pyodbc.connect(f'DRIVER={{ODBC Driver 17 for SQL Server}};SERVER={server};DATABASE={database};UID={username};PWD={password}')\n",
    "    query = 'SELECT @@VERSION AS Version'\n",
    "    df = pd.read_sql(query, con)\n",
    "finally:\n",
    "    if not con.closed:\n",
    "        con.close()\n",
    "\n",
    "df"
   ]
  }
 ],
 "metadata": {
  "kernelspec": {
   "display_name": "Python 3 (ipykernel)",
   "language": "python",
   "name": "python3"
  },
  "language_info": {
   "codemirror_mode": {
    "name": "ipython",
    "version": 3
   },
   "file_extension": ".py",
   "mimetype": "text/x-python",
   "name": "python",
   "nbconvert_exporter": "python",
   "pygments_lexer": "ipython3",
   "version": "3.9.5"
  }
 },
 "nbformat": 4,
 "nbformat_minor": 5
}
